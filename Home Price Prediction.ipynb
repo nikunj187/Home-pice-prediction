{
 "cells": [
  {
   "cell_type": "code",
   "execution_count": 118,
   "id": "6b2574ee",
   "metadata": {},
   "outputs": [],
   "source": [
    "import numpy as np\n",
    "import pandas as pd\n",
    "import matplotlib.pyplot as plt\n",
    "import seaborn as sns\n",
    "from sklearn.metrics import mean_squared_error,r2_score, mean_absolute_error\n",
    "from sklearn.linear_model import LinearRegression\n",
    "from sklearn.linear_model import Lasso\n",
    "from sklearn.linear_model import Ridge\n",
    "from sklearn.linear_model import ElasticNet\n",
    "import math"
   ]
  },
  {
   "cell_type": "code",
   "execution_count": 58,
   "id": "8f81948d",
   "metadata": {},
   "outputs": [
    {
     "data": {
      "text/html": [
       "<div>\n",
       "<style scoped>\n",
       "    .dataframe tbody tr th:only-of-type {\n",
       "        vertical-align: middle;\n",
       "    }\n",
       "\n",
       "    .dataframe tbody tr th {\n",
       "        vertical-align: top;\n",
       "    }\n",
       "\n",
       "    .dataframe thead th {\n",
       "        text-align: right;\n",
       "    }\n",
       "</style>\n",
       "<table border=\"1\" class=\"dataframe\">\n",
       "  <thead>\n",
       "    <tr style=\"text-align: right;\">\n",
       "      <th></th>\n",
       "      <th>Suburb</th>\n",
       "      <th>Address</th>\n",
       "      <th>Rooms</th>\n",
       "      <th>Type</th>\n",
       "      <th>Price</th>\n",
       "      <th>Method</th>\n",
       "      <th>SellerG</th>\n",
       "      <th>Date</th>\n",
       "      <th>Distance</th>\n",
       "      <th>Postcode</th>\n",
       "      <th>...</th>\n",
       "      <th>Bathroom</th>\n",
       "      <th>Car</th>\n",
       "      <th>Landsize</th>\n",
       "      <th>BuildingArea</th>\n",
       "      <th>YearBuilt</th>\n",
       "      <th>CouncilArea</th>\n",
       "      <th>Lattitude</th>\n",
       "      <th>Longtitude</th>\n",
       "      <th>Regionname</th>\n",
       "      <th>Propertycount</th>\n",
       "    </tr>\n",
       "  </thead>\n",
       "  <tbody>\n",
       "    <tr>\n",
       "      <th>0</th>\n",
       "      <td>Abbotsford</td>\n",
       "      <td>68 Studley St</td>\n",
       "      <td>2</td>\n",
       "      <td>h</td>\n",
       "      <td>NaN</td>\n",
       "      <td>SS</td>\n",
       "      <td>Jellis</td>\n",
       "      <td>03/09/2016</td>\n",
       "      <td>2.5</td>\n",
       "      <td>3067.0</td>\n",
       "      <td>...</td>\n",
       "      <td>1.0</td>\n",
       "      <td>1.0</td>\n",
       "      <td>126.0</td>\n",
       "      <td>NaN</td>\n",
       "      <td>NaN</td>\n",
       "      <td>Yarra City Council</td>\n",
       "      <td>-37.8014</td>\n",
       "      <td>144.9958</td>\n",
       "      <td>Northern Metropolitan</td>\n",
       "      <td>4019.0</td>\n",
       "    </tr>\n",
       "    <tr>\n",
       "      <th>1</th>\n",
       "      <td>Abbotsford</td>\n",
       "      <td>85 Turner St</td>\n",
       "      <td>2</td>\n",
       "      <td>h</td>\n",
       "      <td>1480000.0</td>\n",
       "      <td>S</td>\n",
       "      <td>Biggin</td>\n",
       "      <td>03/12/2016</td>\n",
       "      <td>2.5</td>\n",
       "      <td>3067.0</td>\n",
       "      <td>...</td>\n",
       "      <td>1.0</td>\n",
       "      <td>1.0</td>\n",
       "      <td>202.0</td>\n",
       "      <td>NaN</td>\n",
       "      <td>NaN</td>\n",
       "      <td>Yarra City Council</td>\n",
       "      <td>-37.7996</td>\n",
       "      <td>144.9984</td>\n",
       "      <td>Northern Metropolitan</td>\n",
       "      <td>4019.0</td>\n",
       "    </tr>\n",
       "    <tr>\n",
       "      <th>2</th>\n",
       "      <td>Abbotsford</td>\n",
       "      <td>25 Bloomburg St</td>\n",
       "      <td>2</td>\n",
       "      <td>h</td>\n",
       "      <td>1035000.0</td>\n",
       "      <td>S</td>\n",
       "      <td>Biggin</td>\n",
       "      <td>04/02/2016</td>\n",
       "      <td>2.5</td>\n",
       "      <td>3067.0</td>\n",
       "      <td>...</td>\n",
       "      <td>1.0</td>\n",
       "      <td>0.0</td>\n",
       "      <td>156.0</td>\n",
       "      <td>79.0</td>\n",
       "      <td>1900.0</td>\n",
       "      <td>Yarra City Council</td>\n",
       "      <td>-37.8079</td>\n",
       "      <td>144.9934</td>\n",
       "      <td>Northern Metropolitan</td>\n",
       "      <td>4019.0</td>\n",
       "    </tr>\n",
       "    <tr>\n",
       "      <th>3</th>\n",
       "      <td>Abbotsford</td>\n",
       "      <td>18/659 Victoria St</td>\n",
       "      <td>3</td>\n",
       "      <td>u</td>\n",
       "      <td>NaN</td>\n",
       "      <td>VB</td>\n",
       "      <td>Rounds</td>\n",
       "      <td>04/02/2016</td>\n",
       "      <td>2.5</td>\n",
       "      <td>3067.0</td>\n",
       "      <td>...</td>\n",
       "      <td>2.0</td>\n",
       "      <td>1.0</td>\n",
       "      <td>0.0</td>\n",
       "      <td>NaN</td>\n",
       "      <td>NaN</td>\n",
       "      <td>Yarra City Council</td>\n",
       "      <td>-37.8114</td>\n",
       "      <td>145.0116</td>\n",
       "      <td>Northern Metropolitan</td>\n",
       "      <td>4019.0</td>\n",
       "    </tr>\n",
       "    <tr>\n",
       "      <th>4</th>\n",
       "      <td>Abbotsford</td>\n",
       "      <td>5 Charles St</td>\n",
       "      <td>3</td>\n",
       "      <td>h</td>\n",
       "      <td>1465000.0</td>\n",
       "      <td>SP</td>\n",
       "      <td>Biggin</td>\n",
       "      <td>04/03/2017</td>\n",
       "      <td>2.5</td>\n",
       "      <td>3067.0</td>\n",
       "      <td>...</td>\n",
       "      <td>2.0</td>\n",
       "      <td>0.0</td>\n",
       "      <td>134.0</td>\n",
       "      <td>150.0</td>\n",
       "      <td>1900.0</td>\n",
       "      <td>Yarra City Council</td>\n",
       "      <td>-37.8093</td>\n",
       "      <td>144.9944</td>\n",
       "      <td>Northern Metropolitan</td>\n",
       "      <td>4019.0</td>\n",
       "    </tr>\n",
       "  </tbody>\n",
       "</table>\n",
       "<p>5 rows × 21 columns</p>\n",
       "</div>"
      ],
      "text/plain": [
       "       Suburb             Address  Rooms Type      Price Method SellerG  \\\n",
       "0  Abbotsford       68 Studley St      2    h        NaN     SS  Jellis   \n",
       "1  Abbotsford        85 Turner St      2    h  1480000.0      S  Biggin   \n",
       "2  Abbotsford     25 Bloomburg St      2    h  1035000.0      S  Biggin   \n",
       "3  Abbotsford  18/659 Victoria St      3    u        NaN     VB  Rounds   \n",
       "4  Abbotsford        5 Charles St      3    h  1465000.0     SP  Biggin   \n",
       "\n",
       "         Date  Distance  Postcode  ...  Bathroom  Car  Landsize  BuildingArea  \\\n",
       "0  03/09/2016       2.5    3067.0  ...       1.0  1.0     126.0           NaN   \n",
       "1  03/12/2016       2.5    3067.0  ...       1.0  1.0     202.0           NaN   \n",
       "2  04/02/2016       2.5    3067.0  ...       1.0  0.0     156.0          79.0   \n",
       "3  04/02/2016       2.5    3067.0  ...       2.0  1.0       0.0           NaN   \n",
       "4  04/03/2017       2.5    3067.0  ...       2.0  0.0     134.0         150.0   \n",
       "\n",
       "   YearBuilt         CouncilArea Lattitude  Longtitude             Regionname  \\\n",
       "0        NaN  Yarra City Council  -37.8014    144.9958  Northern Metropolitan   \n",
       "1        NaN  Yarra City Council  -37.7996    144.9984  Northern Metropolitan   \n",
       "2     1900.0  Yarra City Council  -37.8079    144.9934  Northern Metropolitan   \n",
       "3        NaN  Yarra City Council  -37.8114    145.0116  Northern Metropolitan   \n",
       "4     1900.0  Yarra City Council  -37.8093    144.9944  Northern Metropolitan   \n",
       "\n",
       "  Propertycount  \n",
       "0        4019.0  \n",
       "1        4019.0  \n",
       "2        4019.0  \n",
       "3        4019.0  \n",
       "4        4019.0  \n",
       "\n",
       "[5 rows x 21 columns]"
      ]
     },
     "execution_count": 58,
     "metadata": {},
     "output_type": "execute_result"
    }
   ],
   "source": [
    "df=pd.read_csv(\"C:\\\\Users\\\\admin\\\\Downloads\\\\machin learning project\\\\home price prediction\\\\Python_Linear_Regres (3).csv\")\n",
    "df.head()"
   ]
  },
  {
   "cell_type": "code",
   "execution_count": 47,
   "id": "acc79202",
   "metadata": {},
   "outputs": [
    {
     "data": {
      "text/plain": [
       "Index(['Suburb', 'Address', 'Rooms', 'Type', 'Price', 'Method', 'SellerG',\n",
       "       'Date', 'Distance', 'Postcode', 'Bedroom2', 'Bathroom', 'Car',\n",
       "       'Landsize', 'BuildingArea', 'YearBuilt', 'CouncilArea', 'Lattitude',\n",
       "       'Longtitude', 'Regionname', 'Propertycount'],\n",
       "      dtype='object')"
      ]
     },
     "execution_count": 47,
     "metadata": {},
     "output_type": "execute_result"
    }
   ],
   "source": [
    "df.columns"
   ]
  },
  {
   "cell_type": "code",
   "execution_count": 59,
   "id": "c9841aff",
   "metadata": {},
   "outputs": [],
   "source": [
    "df.drop(['Address','Date','Postcode','Longtitude','Lattitude','YearBuilt'],axis=1,inplace=True)"
   ]
  },
  {
   "cell_type": "code",
   "execution_count": 60,
   "id": "d92af732",
   "metadata": {},
   "outputs": [
    {
     "data": {
      "text/html": [
       "<div>\n",
       "<style scoped>\n",
       "    .dataframe tbody tr th:only-of-type {\n",
       "        vertical-align: middle;\n",
       "    }\n",
       "\n",
       "    .dataframe tbody tr th {\n",
       "        vertical-align: top;\n",
       "    }\n",
       "\n",
       "    .dataframe thead th {\n",
       "        text-align: right;\n",
       "    }\n",
       "</style>\n",
       "<table border=\"1\" class=\"dataframe\">\n",
       "  <thead>\n",
       "    <tr style=\"text-align: right;\">\n",
       "      <th></th>\n",
       "      <th>Suburb</th>\n",
       "      <th>Rooms</th>\n",
       "      <th>Type</th>\n",
       "      <th>Price</th>\n",
       "      <th>Method</th>\n",
       "      <th>SellerG</th>\n",
       "      <th>Distance</th>\n",
       "      <th>Bedroom2</th>\n",
       "      <th>Bathroom</th>\n",
       "      <th>Car</th>\n",
       "      <th>Landsize</th>\n",
       "      <th>BuildingArea</th>\n",
       "      <th>CouncilArea</th>\n",
       "      <th>Regionname</th>\n",
       "      <th>Propertycount</th>\n",
       "    </tr>\n",
       "  </thead>\n",
       "  <tbody>\n",
       "    <tr>\n",
       "      <th>0</th>\n",
       "      <td>Abbotsford</td>\n",
       "      <td>2</td>\n",
       "      <td>h</td>\n",
       "      <td>NaN</td>\n",
       "      <td>SS</td>\n",
       "      <td>Jellis</td>\n",
       "      <td>2.5</td>\n",
       "      <td>2.0</td>\n",
       "      <td>1.0</td>\n",
       "      <td>1.0</td>\n",
       "      <td>126.0</td>\n",
       "      <td>NaN</td>\n",
       "      <td>Yarra City Council</td>\n",
       "      <td>Northern Metropolitan</td>\n",
       "      <td>4019.0</td>\n",
       "    </tr>\n",
       "    <tr>\n",
       "      <th>1</th>\n",
       "      <td>Abbotsford</td>\n",
       "      <td>2</td>\n",
       "      <td>h</td>\n",
       "      <td>1480000.0</td>\n",
       "      <td>S</td>\n",
       "      <td>Biggin</td>\n",
       "      <td>2.5</td>\n",
       "      <td>2.0</td>\n",
       "      <td>1.0</td>\n",
       "      <td>1.0</td>\n",
       "      <td>202.0</td>\n",
       "      <td>NaN</td>\n",
       "      <td>Yarra City Council</td>\n",
       "      <td>Northern Metropolitan</td>\n",
       "      <td>4019.0</td>\n",
       "    </tr>\n",
       "    <tr>\n",
       "      <th>2</th>\n",
       "      <td>Abbotsford</td>\n",
       "      <td>2</td>\n",
       "      <td>h</td>\n",
       "      <td>1035000.0</td>\n",
       "      <td>S</td>\n",
       "      <td>Biggin</td>\n",
       "      <td>2.5</td>\n",
       "      <td>2.0</td>\n",
       "      <td>1.0</td>\n",
       "      <td>0.0</td>\n",
       "      <td>156.0</td>\n",
       "      <td>79.0</td>\n",
       "      <td>Yarra City Council</td>\n",
       "      <td>Northern Metropolitan</td>\n",
       "      <td>4019.0</td>\n",
       "    </tr>\n",
       "    <tr>\n",
       "      <th>3</th>\n",
       "      <td>Abbotsford</td>\n",
       "      <td>3</td>\n",
       "      <td>u</td>\n",
       "      <td>NaN</td>\n",
       "      <td>VB</td>\n",
       "      <td>Rounds</td>\n",
       "      <td>2.5</td>\n",
       "      <td>3.0</td>\n",
       "      <td>2.0</td>\n",
       "      <td>1.0</td>\n",
       "      <td>0.0</td>\n",
       "      <td>NaN</td>\n",
       "      <td>Yarra City Council</td>\n",
       "      <td>Northern Metropolitan</td>\n",
       "      <td>4019.0</td>\n",
       "    </tr>\n",
       "    <tr>\n",
       "      <th>4</th>\n",
       "      <td>Abbotsford</td>\n",
       "      <td>3</td>\n",
       "      <td>h</td>\n",
       "      <td>1465000.0</td>\n",
       "      <td>SP</td>\n",
       "      <td>Biggin</td>\n",
       "      <td>2.5</td>\n",
       "      <td>3.0</td>\n",
       "      <td>2.0</td>\n",
       "      <td>0.0</td>\n",
       "      <td>134.0</td>\n",
       "      <td>150.0</td>\n",
       "      <td>Yarra City Council</td>\n",
       "      <td>Northern Metropolitan</td>\n",
       "      <td>4019.0</td>\n",
       "    </tr>\n",
       "  </tbody>\n",
       "</table>\n",
       "</div>"
      ],
      "text/plain": [
       "       Suburb  Rooms Type      Price Method SellerG  Distance  Bedroom2  \\\n",
       "0  Abbotsford      2    h        NaN     SS  Jellis       2.5       2.0   \n",
       "1  Abbotsford      2    h  1480000.0      S  Biggin       2.5       2.0   \n",
       "2  Abbotsford      2    h  1035000.0      S  Biggin       2.5       2.0   \n",
       "3  Abbotsford      3    u        NaN     VB  Rounds       2.5       3.0   \n",
       "4  Abbotsford      3    h  1465000.0     SP  Biggin       2.5       3.0   \n",
       "\n",
       "   Bathroom  Car  Landsize  BuildingArea         CouncilArea  \\\n",
       "0       1.0  1.0     126.0           NaN  Yarra City Council   \n",
       "1       1.0  1.0     202.0           NaN  Yarra City Council   \n",
       "2       1.0  0.0     156.0          79.0  Yarra City Council   \n",
       "3       2.0  1.0       0.0           NaN  Yarra City Council   \n",
       "4       2.0  0.0     134.0         150.0  Yarra City Council   \n",
       "\n",
       "              Regionname  Propertycount  \n",
       "0  Northern Metropolitan         4019.0  \n",
       "1  Northern Metropolitan         4019.0  \n",
       "2  Northern Metropolitan         4019.0  \n",
       "3  Northern Metropolitan         4019.0  \n",
       "4  Northern Metropolitan         4019.0  "
      ]
     },
     "execution_count": 60,
     "metadata": {},
     "output_type": "execute_result"
    }
   ],
   "source": [
    "df.head()"
   ]
  },
  {
   "cell_type": "code",
   "execution_count": null,
   "id": "3cbd8366",
   "metadata": {},
   "outputs": [],
   "source": [
    "# check datatype and null value"
   ]
  },
  {
   "cell_type": "code",
   "execution_count": 4,
   "id": "9ff83a8f",
   "metadata": {},
   "outputs": [
    {
     "name": "stdout",
     "output_type": "stream",
     "text": [
      "<class 'pandas.core.frame.DataFrame'>\n",
      "RangeIndex: 34857 entries, 0 to 34856\n",
      "Data columns (total 21 columns):\n",
      " #   Column         Non-Null Count  Dtype  \n",
      "---  ------         --------------  -----  \n",
      " 0   Suburb         34857 non-null  object \n",
      " 1   Address        34857 non-null  object \n",
      " 2   Rooms          34857 non-null  int64  \n",
      " 3   Type           34857 non-null  object \n",
      " 4   Price          27247 non-null  float64\n",
      " 5   Method         34857 non-null  object \n",
      " 6   SellerG        34857 non-null  object \n",
      " 7   Date           34857 non-null  object \n",
      " 8   Distance       34856 non-null  float64\n",
      " 9   Postcode       34856 non-null  float64\n",
      " 10  Bedroom2       26640 non-null  float64\n",
      " 11  Bathroom       26631 non-null  float64\n",
      " 12  Car            26129 non-null  float64\n",
      " 13  Landsize       23047 non-null  float64\n",
      " 14  BuildingArea   13742 non-null  float64\n",
      " 15  YearBuilt      15551 non-null  float64\n",
      " 16  CouncilArea    34854 non-null  object \n",
      " 17  Lattitude      26881 non-null  float64\n",
      " 18  Longtitude     26881 non-null  float64\n",
      " 19  Regionname     34854 non-null  object \n",
      " 20  Propertycount  34854 non-null  float64\n",
      "dtypes: float64(12), int64(1), object(8)\n",
      "memory usage: 5.6+ MB\n"
     ]
    }
   ],
   "source": [
    "df.info()"
   ]
  },
  {
   "cell_type": "code",
   "execution_count": 5,
   "id": "3198dc5c",
   "metadata": {},
   "outputs": [
    {
     "data": {
      "text/html": [
       "<div>\n",
       "<style scoped>\n",
       "    .dataframe tbody tr th:only-of-type {\n",
       "        vertical-align: middle;\n",
       "    }\n",
       "\n",
       "    .dataframe tbody tr th {\n",
       "        vertical-align: top;\n",
       "    }\n",
       "\n",
       "    .dataframe thead th {\n",
       "        text-align: right;\n",
       "    }\n",
       "</style>\n",
       "<table border=\"1\" class=\"dataframe\">\n",
       "  <thead>\n",
       "    <tr style=\"text-align: right;\">\n",
       "      <th></th>\n",
       "      <th>Suburb</th>\n",
       "      <th>Rooms</th>\n",
       "      <th>Type</th>\n",
       "      <th>Price</th>\n",
       "      <th>Method</th>\n",
       "      <th>SellerG</th>\n",
       "      <th>Distance</th>\n",
       "      <th>Bedroom2</th>\n",
       "      <th>Bathroom</th>\n",
       "      <th>Car</th>\n",
       "      <th>Landsize</th>\n",
       "      <th>BuildingArea</th>\n",
       "      <th>CouncilArea</th>\n",
       "      <th>Regionname</th>\n",
       "      <th>Propertycount</th>\n",
       "    </tr>\n",
       "  </thead>\n",
       "  <tbody>\n",
       "    <tr>\n",
       "      <th>0</th>\n",
       "      <td>Abbotsford</td>\n",
       "      <td>2</td>\n",
       "      <td>h</td>\n",
       "      <td>NaN</td>\n",
       "      <td>SS</td>\n",
       "      <td>Jellis</td>\n",
       "      <td>2.5</td>\n",
       "      <td>2.0</td>\n",
       "      <td>1.0</td>\n",
       "      <td>1.0</td>\n",
       "      <td>126.0</td>\n",
       "      <td>NaN</td>\n",
       "      <td>Yarra City Council</td>\n",
       "      <td>Northern Metropolitan</td>\n",
       "      <td>4019.0</td>\n",
       "    </tr>\n",
       "    <tr>\n",
       "      <th>1</th>\n",
       "      <td>Abbotsford</td>\n",
       "      <td>2</td>\n",
       "      <td>h</td>\n",
       "      <td>1480000.0</td>\n",
       "      <td>S</td>\n",
       "      <td>Biggin</td>\n",
       "      <td>2.5</td>\n",
       "      <td>2.0</td>\n",
       "      <td>1.0</td>\n",
       "      <td>1.0</td>\n",
       "      <td>202.0</td>\n",
       "      <td>NaN</td>\n",
       "      <td>Yarra City Council</td>\n",
       "      <td>Northern Metropolitan</td>\n",
       "      <td>4019.0</td>\n",
       "    </tr>\n",
       "    <tr>\n",
       "      <th>2</th>\n",
       "      <td>Abbotsford</td>\n",
       "      <td>2</td>\n",
       "      <td>h</td>\n",
       "      <td>1035000.0</td>\n",
       "      <td>S</td>\n",
       "      <td>Biggin</td>\n",
       "      <td>2.5</td>\n",
       "      <td>2.0</td>\n",
       "      <td>1.0</td>\n",
       "      <td>0.0</td>\n",
       "      <td>156.0</td>\n",
       "      <td>79.0</td>\n",
       "      <td>Yarra City Council</td>\n",
       "      <td>Northern Metropolitan</td>\n",
       "      <td>4019.0</td>\n",
       "    </tr>\n",
       "    <tr>\n",
       "      <th>3</th>\n",
       "      <td>Abbotsford</td>\n",
       "      <td>3</td>\n",
       "      <td>u</td>\n",
       "      <td>NaN</td>\n",
       "      <td>VB</td>\n",
       "      <td>Rounds</td>\n",
       "      <td>2.5</td>\n",
       "      <td>3.0</td>\n",
       "      <td>2.0</td>\n",
       "      <td>1.0</td>\n",
       "      <td>0.0</td>\n",
       "      <td>NaN</td>\n",
       "      <td>Yarra City Council</td>\n",
       "      <td>Northern Metropolitan</td>\n",
       "      <td>4019.0</td>\n",
       "    </tr>\n",
       "    <tr>\n",
       "      <th>4</th>\n",
       "      <td>Abbotsford</td>\n",
       "      <td>3</td>\n",
       "      <td>h</td>\n",
       "      <td>1465000.0</td>\n",
       "      <td>SP</td>\n",
       "      <td>Biggin</td>\n",
       "      <td>2.5</td>\n",
       "      <td>3.0</td>\n",
       "      <td>2.0</td>\n",
       "      <td>0.0</td>\n",
       "      <td>134.0</td>\n",
       "      <td>150.0</td>\n",
       "      <td>Yarra City Council</td>\n",
       "      <td>Northern Metropolitan</td>\n",
       "      <td>4019.0</td>\n",
       "    </tr>\n",
       "    <tr>\n",
       "      <th>...</th>\n",
       "      <td>...</td>\n",
       "      <td>...</td>\n",
       "      <td>...</td>\n",
       "      <td>...</td>\n",
       "      <td>...</td>\n",
       "      <td>...</td>\n",
       "      <td>...</td>\n",
       "      <td>...</td>\n",
       "      <td>...</td>\n",
       "      <td>...</td>\n",
       "      <td>...</td>\n",
       "      <td>...</td>\n",
       "      <td>...</td>\n",
       "      <td>...</td>\n",
       "      <td>...</td>\n",
       "    </tr>\n",
       "    <tr>\n",
       "      <th>34852</th>\n",
       "      <td>Yarraville</td>\n",
       "      <td>4</td>\n",
       "      <td>h</td>\n",
       "      <td>1480000.0</td>\n",
       "      <td>PI</td>\n",
       "      <td>Jas</td>\n",
       "      <td>6.3</td>\n",
       "      <td>4.0</td>\n",
       "      <td>1.0</td>\n",
       "      <td>3.0</td>\n",
       "      <td>593.0</td>\n",
       "      <td>NaN</td>\n",
       "      <td>Maribyrnong City Council</td>\n",
       "      <td>Western Metropolitan</td>\n",
       "      <td>6543.0</td>\n",
       "    </tr>\n",
       "    <tr>\n",
       "      <th>34853</th>\n",
       "      <td>Yarraville</td>\n",
       "      <td>2</td>\n",
       "      <td>h</td>\n",
       "      <td>888000.0</td>\n",
       "      <td>SP</td>\n",
       "      <td>Sweeney</td>\n",
       "      <td>6.3</td>\n",
       "      <td>2.0</td>\n",
       "      <td>2.0</td>\n",
       "      <td>1.0</td>\n",
       "      <td>98.0</td>\n",
       "      <td>104.0</td>\n",
       "      <td>Maribyrnong City Council</td>\n",
       "      <td>Western Metropolitan</td>\n",
       "      <td>6543.0</td>\n",
       "    </tr>\n",
       "    <tr>\n",
       "      <th>34854</th>\n",
       "      <td>Yarraville</td>\n",
       "      <td>2</td>\n",
       "      <td>t</td>\n",
       "      <td>705000.0</td>\n",
       "      <td>S</td>\n",
       "      <td>Jas</td>\n",
       "      <td>6.3</td>\n",
       "      <td>2.0</td>\n",
       "      <td>1.0</td>\n",
       "      <td>2.0</td>\n",
       "      <td>220.0</td>\n",
       "      <td>120.0</td>\n",
       "      <td>Maribyrnong City Council</td>\n",
       "      <td>Western Metropolitan</td>\n",
       "      <td>6543.0</td>\n",
       "    </tr>\n",
       "    <tr>\n",
       "      <th>34855</th>\n",
       "      <td>Yarraville</td>\n",
       "      <td>3</td>\n",
       "      <td>h</td>\n",
       "      <td>1140000.0</td>\n",
       "      <td>SP</td>\n",
       "      <td>hockingstuart</td>\n",
       "      <td>6.3</td>\n",
       "      <td>NaN</td>\n",
       "      <td>NaN</td>\n",
       "      <td>NaN</td>\n",
       "      <td>NaN</td>\n",
       "      <td>NaN</td>\n",
       "      <td>Maribyrnong City Council</td>\n",
       "      <td>Western Metropolitan</td>\n",
       "      <td>6543.0</td>\n",
       "    </tr>\n",
       "    <tr>\n",
       "      <th>34856</th>\n",
       "      <td>Yarraville</td>\n",
       "      <td>2</td>\n",
       "      <td>h</td>\n",
       "      <td>1020000.0</td>\n",
       "      <td>PI</td>\n",
       "      <td>RW</td>\n",
       "      <td>6.3</td>\n",
       "      <td>2.0</td>\n",
       "      <td>1.0</td>\n",
       "      <td>0.0</td>\n",
       "      <td>250.0</td>\n",
       "      <td>103.0</td>\n",
       "      <td>Maribyrnong City Council</td>\n",
       "      <td>Western Metropolitan</td>\n",
       "      <td>6543.0</td>\n",
       "    </tr>\n",
       "  </tbody>\n",
       "</table>\n",
       "<p>34857 rows × 15 columns</p>\n",
       "</div>"
      ],
      "text/plain": [
       "           Suburb  Rooms Type      Price Method        SellerG  Distance  \\\n",
       "0      Abbotsford      2    h        NaN     SS         Jellis       2.5   \n",
       "1      Abbotsford      2    h  1480000.0      S         Biggin       2.5   \n",
       "2      Abbotsford      2    h  1035000.0      S         Biggin       2.5   \n",
       "3      Abbotsford      3    u        NaN     VB         Rounds       2.5   \n",
       "4      Abbotsford      3    h  1465000.0     SP         Biggin       2.5   \n",
       "...           ...    ...  ...        ...    ...            ...       ...   \n",
       "34852  Yarraville      4    h  1480000.0     PI            Jas       6.3   \n",
       "34853  Yarraville      2    h   888000.0     SP        Sweeney       6.3   \n",
       "34854  Yarraville      2    t   705000.0      S            Jas       6.3   \n",
       "34855  Yarraville      3    h  1140000.0     SP  hockingstuart       6.3   \n",
       "34856  Yarraville      2    h  1020000.0     PI             RW       6.3   \n",
       "\n",
       "       Bedroom2  Bathroom  Car  Landsize  BuildingArea  \\\n",
       "0           2.0       1.0  1.0     126.0           NaN   \n",
       "1           2.0       1.0  1.0     202.0           NaN   \n",
       "2           2.0       1.0  0.0     156.0          79.0   \n",
       "3           3.0       2.0  1.0       0.0           NaN   \n",
       "4           3.0       2.0  0.0     134.0         150.0   \n",
       "...         ...       ...  ...       ...           ...   \n",
       "34852       4.0       1.0  3.0     593.0           NaN   \n",
       "34853       2.0       2.0  1.0      98.0         104.0   \n",
       "34854       2.0       1.0  2.0     220.0         120.0   \n",
       "34855       NaN       NaN  NaN       NaN           NaN   \n",
       "34856       2.0       1.0  0.0     250.0         103.0   \n",
       "\n",
       "                    CouncilArea             Regionname  Propertycount  \n",
       "0            Yarra City Council  Northern Metropolitan         4019.0  \n",
       "1            Yarra City Council  Northern Metropolitan         4019.0  \n",
       "2            Yarra City Council  Northern Metropolitan         4019.0  \n",
       "3            Yarra City Council  Northern Metropolitan         4019.0  \n",
       "4            Yarra City Council  Northern Metropolitan         4019.0  \n",
       "...                         ...                    ...            ...  \n",
       "34852  Maribyrnong City Council   Western Metropolitan         6543.0  \n",
       "34853  Maribyrnong City Council   Western Metropolitan         6543.0  \n",
       "34854  Maribyrnong City Council   Western Metropolitan         6543.0  \n",
       "34855  Maribyrnong City Council   Western Metropolitan         6543.0  \n",
       "34856  Maribyrnong City Council   Western Metropolitan         6543.0  \n",
       "\n",
       "[34857 rows x 15 columns]"
      ]
     },
     "execution_count": 5,
     "metadata": {},
     "output_type": "execute_result"
    }
   ],
   "source": [
    "df.drop(['Address','Date','Postcode','YearBuilt','Lattitude','Longtitude'],axis=1,inplace=True)\n",
    "df"
   ]
  },
  {
   "cell_type": "code",
   "execution_count": 6,
   "id": "e55effd5",
   "metadata": {},
   "outputs": [
    {
     "data": {
      "text/html": [
       "<div>\n",
       "<style scoped>\n",
       "    .dataframe tbody tr th:only-of-type {\n",
       "        vertical-align: middle;\n",
       "    }\n",
       "\n",
       "    .dataframe tbody tr th {\n",
       "        vertical-align: top;\n",
       "    }\n",
       "\n",
       "    .dataframe thead th {\n",
       "        text-align: right;\n",
       "    }\n",
       "</style>\n",
       "<table border=\"1\" class=\"dataframe\">\n",
       "  <thead>\n",
       "    <tr style=\"text-align: right;\">\n",
       "      <th></th>\n",
       "      <th>Rooms</th>\n",
       "      <th>Price</th>\n",
       "      <th>Distance</th>\n",
       "      <th>Bedroom2</th>\n",
       "      <th>Bathroom</th>\n",
       "      <th>Car</th>\n",
       "      <th>Landsize</th>\n",
       "      <th>BuildingArea</th>\n",
       "      <th>Propertycount</th>\n",
       "    </tr>\n",
       "  </thead>\n",
       "  <tbody>\n",
       "    <tr>\n",
       "      <th>count</th>\n",
       "      <td>34857.000000</td>\n",
       "      <td>2.724700e+04</td>\n",
       "      <td>34856.000000</td>\n",
       "      <td>26640.000000</td>\n",
       "      <td>26631.000000</td>\n",
       "      <td>26129.000000</td>\n",
       "      <td>23047.000000</td>\n",
       "      <td>13742.00000</td>\n",
       "      <td>34854.000000</td>\n",
       "    </tr>\n",
       "    <tr>\n",
       "      <th>mean</th>\n",
       "      <td>3.031012</td>\n",
       "      <td>1.050173e+06</td>\n",
       "      <td>11.184929</td>\n",
       "      <td>3.084647</td>\n",
       "      <td>1.624798</td>\n",
       "      <td>1.728845</td>\n",
       "      <td>593.598993</td>\n",
       "      <td>160.25640</td>\n",
       "      <td>7572.888306</td>\n",
       "    </tr>\n",
       "    <tr>\n",
       "      <th>std</th>\n",
       "      <td>0.969933</td>\n",
       "      <td>6.414671e+05</td>\n",
       "      <td>6.788892</td>\n",
       "      <td>0.980690</td>\n",
       "      <td>0.724212</td>\n",
       "      <td>1.010771</td>\n",
       "      <td>3398.841946</td>\n",
       "      <td>401.26706</td>\n",
       "      <td>4428.090313</td>\n",
       "    </tr>\n",
       "    <tr>\n",
       "      <th>min</th>\n",
       "      <td>1.000000</td>\n",
       "      <td>8.500000e+04</td>\n",
       "      <td>0.000000</td>\n",
       "      <td>0.000000</td>\n",
       "      <td>0.000000</td>\n",
       "      <td>0.000000</td>\n",
       "      <td>0.000000</td>\n",
       "      <td>0.00000</td>\n",
       "      <td>83.000000</td>\n",
       "    </tr>\n",
       "    <tr>\n",
       "      <th>25%</th>\n",
       "      <td>2.000000</td>\n",
       "      <td>6.350000e+05</td>\n",
       "      <td>6.400000</td>\n",
       "      <td>2.000000</td>\n",
       "      <td>1.000000</td>\n",
       "      <td>1.000000</td>\n",
       "      <td>224.000000</td>\n",
       "      <td>102.00000</td>\n",
       "      <td>4385.000000</td>\n",
       "    </tr>\n",
       "    <tr>\n",
       "      <th>50%</th>\n",
       "      <td>3.000000</td>\n",
       "      <td>8.700000e+05</td>\n",
       "      <td>10.300000</td>\n",
       "      <td>3.000000</td>\n",
       "      <td>2.000000</td>\n",
       "      <td>2.000000</td>\n",
       "      <td>521.000000</td>\n",
       "      <td>136.00000</td>\n",
       "      <td>6763.000000</td>\n",
       "    </tr>\n",
       "    <tr>\n",
       "      <th>75%</th>\n",
       "      <td>4.000000</td>\n",
       "      <td>1.295000e+06</td>\n",
       "      <td>14.000000</td>\n",
       "      <td>4.000000</td>\n",
       "      <td>2.000000</td>\n",
       "      <td>2.000000</td>\n",
       "      <td>670.000000</td>\n",
       "      <td>188.00000</td>\n",
       "      <td>10412.000000</td>\n",
       "    </tr>\n",
       "    <tr>\n",
       "      <th>max</th>\n",
       "      <td>16.000000</td>\n",
       "      <td>1.120000e+07</td>\n",
       "      <td>48.100000</td>\n",
       "      <td>30.000000</td>\n",
       "      <td>12.000000</td>\n",
       "      <td>26.000000</td>\n",
       "      <td>433014.000000</td>\n",
       "      <td>44515.00000</td>\n",
       "      <td>21650.000000</td>\n",
       "    </tr>\n",
       "  </tbody>\n",
       "</table>\n",
       "</div>"
      ],
      "text/plain": [
       "              Rooms         Price      Distance      Bedroom2      Bathroom  \\\n",
       "count  34857.000000  2.724700e+04  34856.000000  26640.000000  26631.000000   \n",
       "mean       3.031012  1.050173e+06     11.184929      3.084647      1.624798   \n",
       "std        0.969933  6.414671e+05      6.788892      0.980690      0.724212   \n",
       "min        1.000000  8.500000e+04      0.000000      0.000000      0.000000   \n",
       "25%        2.000000  6.350000e+05      6.400000      2.000000      1.000000   \n",
       "50%        3.000000  8.700000e+05     10.300000      3.000000      2.000000   \n",
       "75%        4.000000  1.295000e+06     14.000000      4.000000      2.000000   \n",
       "max       16.000000  1.120000e+07     48.100000     30.000000     12.000000   \n",
       "\n",
       "                Car       Landsize  BuildingArea  Propertycount  \n",
       "count  26129.000000   23047.000000   13742.00000   34854.000000  \n",
       "mean       1.728845     593.598993     160.25640    7572.888306  \n",
       "std        1.010771    3398.841946     401.26706    4428.090313  \n",
       "min        0.000000       0.000000       0.00000      83.000000  \n",
       "25%        1.000000     224.000000     102.00000    4385.000000  \n",
       "50%        2.000000     521.000000     136.00000    6763.000000  \n",
       "75%        2.000000     670.000000     188.00000   10412.000000  \n",
       "max       26.000000  433014.000000   44515.00000   21650.000000  "
      ]
     },
     "execution_count": 6,
     "metadata": {},
     "output_type": "execute_result"
    }
   ],
   "source": [
    "df.describe()"
   ]
  },
  {
   "cell_type": "code",
   "execution_count": 8,
   "id": "7989cc48",
   "metadata": {},
   "outputs": [
    {
     "data": {
      "text/plain": [
       "Suburb               0\n",
       "Rooms                0\n",
       "Type                 0\n",
       "Price             7610\n",
       "Method               0\n",
       "SellerG              0\n",
       "Distance             1\n",
       "Bedroom2          8217\n",
       "Bathroom          8226\n",
       "Car               8728\n",
       "Landsize         11810\n",
       "BuildingArea     21115\n",
       "CouncilArea          3\n",
       "Regionname           3\n",
       "Propertycount        3\n",
       "dtype: int64"
      ]
     },
     "execution_count": 8,
     "metadata": {},
     "output_type": "execute_result"
    }
   ],
   "source": [
    "df.isnull().sum()"
   ]
  },
  {
   "cell_type": "code",
   "execution_count": 63,
   "id": "5b01cf20",
   "metadata": {},
   "outputs": [],
   "source": [
    "df[['Propertycount', 'Distance', 'Bedroom2', 'Bathroom', 'Car']]=df[['Propertycount', 'Distance', 'Bedroom2', 'Bathroom', 'Car']].fillna(0)\n",
    "df['Landsize']=df['Landsize'].fillna(df.Landsize.mean()) # mean thi fill 3 vaar avase\n",
    "df['BuildingArea']=df['BuildingArea'].fillna(df.BuildingArea.mean())\n",
    "#df[['BuildingArea','Landsize']]=df[['BuildingArea','Landsize']].fillna(df[['BuildingArea','Landsize']].mean())"
   ]
  },
  {
   "cell_type": "code",
   "execution_count": 65,
   "id": "a96b95de",
   "metadata": {},
   "outputs": [
    {
     "data": {
      "text/plain": [
       "Suburb              0\n",
       "Rooms               0\n",
       "Type                0\n",
       "Price            7610\n",
       "Method              0\n",
       "SellerG             0\n",
       "Distance            0\n",
       "Bedroom2            0\n",
       "Bathroom            0\n",
       "Car                 0\n",
       "Landsize            0\n",
       "BuildingArea        0\n",
       "CouncilArea         3\n",
       "Regionname          3\n",
       "Propertycount       0\n",
       "dtype: int64"
      ]
     },
     "execution_count": 65,
     "metadata": {},
     "output_type": "execute_result"
    }
   ],
   "source": [
    "df.isnull().sum()"
   ]
  },
  {
   "cell_type": "code",
   "execution_count": 66,
   "id": "55e13d3f",
   "metadata": {},
   "outputs": [],
   "source": [
    "df.dropna(inplace=True)"
   ]
  },
  {
   "cell_type": "code",
   "execution_count": 68,
   "id": "9b984302",
   "metadata": {},
   "outputs": [
    {
     "data": {
      "text/plain": [
       "(27244, 15)"
      ]
     },
     "execution_count": 68,
     "metadata": {},
     "output_type": "execute_result"
    }
   ],
   "source": [
    "df.shape"
   ]
  },
  {
   "cell_type": "code",
   "execution_count": 13,
   "id": "84fd0d02",
   "metadata": {},
   "outputs": [
    {
     "data": {
      "text/plain": [
       "array(['S', 'SP', 'PI', 'VB', 'SA'], dtype=object)"
      ]
     },
     "execution_count": 13,
     "metadata": {},
     "output_type": "execute_result"
    }
   ],
   "source": [
    " df['Method'].unique()"
   ]
  },
  {
   "cell_type": "code",
   "execution_count": 14,
   "id": "7ad5d0df",
   "metadata": {},
   "outputs": [
    {
     "data": {
      "text/plain": [
       "349"
      ]
     },
     "execution_count": 14,
     "metadata": {},
     "output_type": "execute_result"
    }
   ],
   "source": [
    "df['SellerG'].nunique()"
   ]
  },
  {
   "cell_type": "code",
   "execution_count": 15,
   "id": "8a625f49",
   "metadata": {},
   "outputs": [
    {
     "data": {
      "text/plain": [
       "array(['Yarra City Council', 'Moonee Valley City Council',\n",
       "       'Port Phillip City Council', 'Darebin City Council',\n",
       "       'Hobsons Bay City Council', 'Stonnington City Council',\n",
       "       'Boroondara City Council', 'Monash City Council',\n",
       "       'Glen Eira City Council', 'Whitehorse City Council',\n",
       "       'Maribyrnong City Council', 'Bayside City Council',\n",
       "       'Moreland City Council', 'Manningham City Council',\n",
       "       'Melbourne City Council', 'Banyule City Council',\n",
       "       'Brimbank City Council', 'Kingston City Council',\n",
       "       'Hume City Council', 'Knox City Council', 'Maroondah City Council',\n",
       "       'Casey City Council', 'Melton City Council',\n",
       "       'Greater Dandenong City Council', 'Nillumbik Shire Council',\n",
       "       'Whittlesea City Council', 'Frankston City Council',\n",
       "       'Macedon Ranges Shire Council', 'Yarra Ranges Shire Council',\n",
       "       'Wyndham City Council', 'Cardinia Shire Council',\n",
       "       'Moorabool Shire Council', 'Mitchell Shire Council'], dtype=object)"
      ]
     },
     "execution_count": 15,
     "metadata": {},
     "output_type": "execute_result"
    }
   ],
   "source": [
    "df['CouncilArea'].unique() # categorical  veriable unnique check"
   ]
  },
  {
   "cell_type": "code",
   "execution_count": 17,
   "id": "f7d5d86b",
   "metadata": {},
   "outputs": [
    {
     "data": {
      "text/plain": [
       "array(['Northern Metropolitan', 'Western Metropolitan',\n",
       "       'Southern Metropolitan', 'Eastern Metropolitan',\n",
       "       'South-Eastern Metropolitan', 'Eastern Victoria',\n",
       "       'Northern Victoria', 'Western Victoria'], dtype=object)"
      ]
     },
     "execution_count": 17,
     "metadata": {},
     "output_type": "execute_result"
    }
   ],
   "source": [
    "df['Regionname'].unique()"
   ]
  },
  {
   "cell_type": "code",
   "execution_count": 70,
   "id": "8af0226c",
   "metadata": {},
   "outputs": [
    {
     "data": {
      "text/html": [
       "<div>\n",
       "<style scoped>\n",
       "    .dataframe tbody tr th:only-of-type {\n",
       "        vertical-align: middle;\n",
       "    }\n",
       "\n",
       "    .dataframe tbody tr th {\n",
       "        vertical-align: top;\n",
       "    }\n",
       "\n",
       "    .dataframe thead th {\n",
       "        text-align: right;\n",
       "    }\n",
       "</style>\n",
       "<table border=\"1\" class=\"dataframe\">\n",
       "  <thead>\n",
       "    <tr style=\"text-align: right;\">\n",
       "      <th></th>\n",
       "      <th>Rooms</th>\n",
       "      <th>Price</th>\n",
       "      <th>Distance</th>\n",
       "      <th>Bedroom2</th>\n",
       "      <th>Bathroom</th>\n",
       "      <th>Car</th>\n",
       "      <th>Landsize</th>\n",
       "      <th>BuildingArea</th>\n",
       "      <th>Propertycount</th>\n",
       "    </tr>\n",
       "  </thead>\n",
       "  <tbody>\n",
       "    <tr>\n",
       "      <th>Rooms</th>\n",
       "      <td>1.000000</td>\n",
       "      <td>0.465231</td>\n",
       "      <td>0.284260</td>\n",
       "      <td>0.558408</td>\n",
       "      <td>0.448790</td>\n",
       "      <td>0.342667</td>\n",
       "      <td>0.027477</td>\n",
       "      <td>0.086560</td>\n",
       "      <td>-0.079572</td>\n",
       "    </tr>\n",
       "    <tr>\n",
       "      <th>Price</th>\n",
       "      <td>0.465231</td>\n",
       "      <td>1.000000</td>\n",
       "      <td>-0.211415</td>\n",
       "      <td>0.301524</td>\n",
       "      <td>0.339020</td>\n",
       "      <td>0.201809</td>\n",
       "      <td>0.027099</td>\n",
       "      <td>0.066240</td>\n",
       "      <td>-0.059017</td>\n",
       "    </tr>\n",
       "    <tr>\n",
       "      <th>Distance</th>\n",
       "      <td>0.284260</td>\n",
       "      <td>-0.211415</td>\n",
       "      <td>1.000000</td>\n",
       "      <td>0.157659</td>\n",
       "      <td>0.103052</td>\n",
       "      <td>0.189324</td>\n",
       "      <td>0.044124</td>\n",
       "      <td>0.050289</td>\n",
       "      <td>-0.021705</td>\n",
       "    </tr>\n",
       "    <tr>\n",
       "      <th>Bedroom2</th>\n",
       "      <td>0.558408</td>\n",
       "      <td>0.301524</td>\n",
       "      <td>0.157659</td>\n",
       "      <td>1.000000</td>\n",
       "      <td>0.842662</td>\n",
       "      <td>0.692635</td>\n",
       "      <td>0.017225</td>\n",
       "      <td>0.051179</td>\n",
       "      <td>-0.049639</td>\n",
       "    </tr>\n",
       "    <tr>\n",
       "      <th>Bathroom</th>\n",
       "      <td>0.448790</td>\n",
       "      <td>0.339020</td>\n",
       "      <td>0.103052</td>\n",
       "      <td>0.842662</td>\n",
       "      <td>1.000000</td>\n",
       "      <td>0.627156</td>\n",
       "      <td>0.023527</td>\n",
       "      <td>0.061372</td>\n",
       "      <td>-0.042507</td>\n",
       "    </tr>\n",
       "    <tr>\n",
       "      <th>Car</th>\n",
       "      <td>0.342667</td>\n",
       "      <td>0.201809</td>\n",
       "      <td>0.189324</td>\n",
       "      <td>0.692635</td>\n",
       "      <td>0.627156</td>\n",
       "      <td>1.000000</td>\n",
       "      <td>0.022484</td>\n",
       "      <td>0.049306</td>\n",
       "      <td>-0.024135</td>\n",
       "    </tr>\n",
       "    <tr>\n",
       "      <th>Landsize</th>\n",
       "      <td>0.027477</td>\n",
       "      <td>0.027099</td>\n",
       "      <td>0.044124</td>\n",
       "      <td>0.017225</td>\n",
       "      <td>0.023527</td>\n",
       "      <td>0.022484</td>\n",
       "      <td>1.000000</td>\n",
       "      <td>0.087274</td>\n",
       "      <td>-0.013485</td>\n",
       "    </tr>\n",
       "    <tr>\n",
       "      <th>BuildingArea</th>\n",
       "      <td>0.086560</td>\n",
       "      <td>0.066240</td>\n",
       "      <td>0.050289</td>\n",
       "      <td>0.051179</td>\n",
       "      <td>0.061372</td>\n",
       "      <td>0.049306</td>\n",
       "      <td>0.087274</td>\n",
       "      <td>1.000000</td>\n",
       "      <td>-0.016039</td>\n",
       "    </tr>\n",
       "    <tr>\n",
       "      <th>Propertycount</th>\n",
       "      <td>-0.079572</td>\n",
       "      <td>-0.059017</td>\n",
       "      <td>-0.021705</td>\n",
       "      <td>-0.049639</td>\n",
       "      <td>-0.042507</td>\n",
       "      <td>-0.024135</td>\n",
       "      <td>-0.013485</td>\n",
       "      <td>-0.016039</td>\n",
       "      <td>1.000000</td>\n",
       "    </tr>\n",
       "  </tbody>\n",
       "</table>\n",
       "</div>"
      ],
      "text/plain": [
       "                  Rooms     Price  Distance  Bedroom2  Bathroom       Car  \\\n",
       "Rooms          1.000000  0.465231  0.284260  0.558408  0.448790  0.342667   \n",
       "Price          0.465231  1.000000 -0.211415  0.301524  0.339020  0.201809   \n",
       "Distance       0.284260 -0.211415  1.000000  0.157659  0.103052  0.189324   \n",
       "Bedroom2       0.558408  0.301524  0.157659  1.000000  0.842662  0.692635   \n",
       "Bathroom       0.448790  0.339020  0.103052  0.842662  1.000000  0.627156   \n",
       "Car            0.342667  0.201809  0.189324  0.692635  0.627156  1.000000   \n",
       "Landsize       0.027477  0.027099  0.044124  0.017225  0.023527  0.022484   \n",
       "BuildingArea   0.086560  0.066240  0.050289  0.051179  0.061372  0.049306   \n",
       "Propertycount -0.079572 -0.059017 -0.021705 -0.049639 -0.042507 -0.024135   \n",
       "\n",
       "               Landsize  BuildingArea  Propertycount  \n",
       "Rooms          0.027477      0.086560      -0.079572  \n",
       "Price          0.027099      0.066240      -0.059017  \n",
       "Distance       0.044124      0.050289      -0.021705  \n",
       "Bedroom2       0.017225      0.051179      -0.049639  \n",
       "Bathroom       0.023527      0.061372      -0.042507  \n",
       "Car            0.022484      0.049306      -0.024135  \n",
       "Landsize       1.000000      0.087274      -0.013485  \n",
       "BuildingArea   0.087274      1.000000      -0.016039  \n",
       "Propertycount -0.013485     -0.016039       1.000000  "
      ]
     },
     "execution_count": 70,
     "metadata": {},
     "output_type": "execute_result"
    }
   ],
   "source": [
    "df.corr()"
   ]
  },
  {
   "cell_type": "code",
   "execution_count": 74,
   "id": "737a93d6",
   "metadata": {},
   "outputs": [
    {
     "data": {
      "text/plain": [
       "<AxesSubplot:>"
      ]
     },
     "execution_count": 74,
     "metadata": {},
     "output_type": "execute_result"
    },
    {
     "data": {
      "image/png": "[encoded data removed]",
      "text/plain": [
       "<Figure size 1080x360 with 2 Axes>"
      ]
     },
     "metadata": {
      "needs_background": "light"
     },
     "output_type": "display_data"
    }
   ],
   "source": [
    "plt.figure(figsize=(15,5))\n",
    "sns.heatmap(df.corr(),annot=True)"
   ]
  },
  {
   "cell_type": "markdown",
   "id": "8e9464fb",
   "metadata": {},
   "source": [
    "# data analysis"
   ]
  },
  {
   "cell_type": "code",
   "execution_count": 76,
   "id": "9be282e4",
   "metadata": {},
   "outputs": [
    {
     "data": {
      "text/plain": [
       "<AxesSubplot:xlabel='Rooms'>"
      ]
     },
     "execution_count": 76,
     "metadata": {},
     "output_type": "execute_result"
    },
    {
     "data": {
      "image/png": "[encoded data removed]",
      "text/plain": [
       "<Figure size 432x288 with 1 Axes>"
      ]
     },
     "metadata": {
      "needs_background": "light"
     },
     "output_type": "display_data"
    }
   ],
   "source": [
    "df.groupby('Rooms')['Price'].mean().plot(kind='bar')"
   ]
  },
  {
   "cell_type": "code",
   "execution_count": 78,
   "id": "bd75a418",
   "metadata": {},
   "outputs": [
    {
     "data": {
      "image/png": "[encoded data removed]",
      "text/plain": [
       "<Figure size 432x288 with 1 Axes>"
      ]
     },
     "metadata": {
      "needs_background": "light"
     },
     "output_type": "display_data"
    }
   ],
   "source": [
    "plt.scatter(df['Propertycount'],df['Price'])\n",
    "plt.xlabel('propertycount')\n",
    "plt.ylabel('Price')\n",
    "plt.show()"
   ]
  },
  {
   "cell_type": "code",
   "execution_count": 79,
   "id": "71b3cdc8",
   "metadata": {},
   "outputs": [
    {
     "data": {
      "image/png": "[encoded data removed]",
      "text/plain": [
       "<Figure size 432x288 with 1 Axes>"
      ]
     },
     "metadata": {
      "needs_background": "light"
     },
     "output_type": "display_data"
    }
   ],
   "source": [
    "plt.scatter(df['Landsize'],df['Price'])\n",
    "plt.xlabel('Landsize')\n",
    "plt.ylabel('Price')\n",
    "plt.show()\n"
   ]
  },
  {
   "cell_type": "code",
   "execution_count": 80,
   "id": "078b0781",
   "metadata": {},
   "outputs": [
    {
     "name": "stderr",
     "output_type": "stream",
     "text": [
      "C:\\Users\\admin\\anaconda3\\lib\\site-packages\\seaborn\\distributions.py:2557: FutureWarning: `distplot` is a deprecated function and will be removed in a future version. Please adapt your code to use either `displot` (a figure-level function with similar flexibility) or `histplot` (an axes-level function for histograms).\n",
      "  warnings.warn(msg, FutureWarning)\n"
     ]
    },
    {
     "data": {
      "text/plain": [
       "<AxesSubplot:xlabel='Price', ylabel='Density'>"
      ]
     },
     "execution_count": 80,
     "metadata": {},
     "output_type": "execute_result"
    },
    {
     "data": {
      "image/png": "[encoded data removed]",
      "text/plain": [
       "<Figure size 432x288 with 1 Axes>"
      ]
     },
     "metadata": {
      "needs_background": "light"
     },
     "output_type": "display_data"
    }
   ],
   "source": [
    "sns.distplot(df['Price'])"
   ]
  },
  {
   "cell_type": "code",
   "execution_count": 81,
   "id": "8ccee6bd",
   "metadata": {},
   "outputs": [
    {
     "data": {
      "text/plain": [
       "<seaborn.axisgrid.FacetGrid at 0x24c920ab820>"
      ]
     },
     "execution_count": 81,
     "metadata": {},
     "output_type": "execute_result"
    },
    {
     "data": {
      "image/png": "[encoded data removed]",
      "text/plain": [
       "<Figure size 360x360 with 1 Axes>"
      ]
     },
     "metadata": {
      "needs_background": "light"
     },
     "output_type": "display_data"
    }
   ],
   "source": [
    "sns.relplot(x=df['Distance'],y=df['Price'])"
   ]
  },
  {
   "cell_type": "code",
   "execution_count": 83,
   "id": "e7a2315b",
   "metadata": {},
   "outputs": [
    {
     "data": {
      "text/plain": [
       "array([[<AxesSubplot:title={'center':'Rooms'}>,\n",
       "        <AxesSubplot:title={'center':'Price'}>,\n",
       "        <AxesSubplot:title={'center':'Distance'}>],\n",
       "       [<AxesSubplot:title={'center':'Bedroom2'}>,\n",
       "        <AxesSubplot:title={'center':'Bathroom'}>,\n",
       "        <AxesSubplot:title={'center':'Car'}>],\n",
       "       [<AxesSubplot:title={'center':'Landsize'}>,\n",
       "        <AxesSubplot:title={'center':'BuildingArea'}>,\n",
       "        <AxesSubplot:title={'center':'Propertycount'}>]], dtype=object)"
      ]
     },
     "execution_count": 83,
     "metadata": {},
     "output_type": "execute_result"
    },
    {
     "data": {
      "image/png": "[encoded data removed]",
      "text/plain": [
       "<Figure size 720x720 with 9 Axes>"
      ]
     },
     "metadata": {
      "needs_background": "light"
     },
     "output_type": "display_data"
    }
   ],
   "source": [
    "df.hist(figsize=(10,10))"
   ]
  },
  {
   "cell_type": "code",
   "execution_count": 84,
   "id": "dfe88319",
   "metadata": {},
   "outputs": [],
   "source": [
    "df = pd.get_dummies(df, drop_first=True) # label encoding best"
   ]
  },
  {
   "cell_type": "code",
   "execution_count": 85,
   "id": "5ff05b2b",
   "metadata": {},
   "outputs": [
    {
     "data": {
      "text/plain": [
       "(27244, 745)"
      ]
     },
     "execution_count": 85,
     "metadata": {},
     "output_type": "execute_result"
    }
   ],
   "source": [
    "df.shape"
   ]
  },
  {
   "cell_type": "code",
   "execution_count": 21,
   "id": "953ee229",
   "metadata": {},
   "outputs": [
    {
     "data": {
      "text/html": [
       "<div>\n",
       "<style scoped>\n",
       "    .dataframe tbody tr th:only-of-type {\n",
       "        vertical-align: middle;\n",
       "    }\n",
       "\n",
       "    .dataframe tbody tr th {\n",
       "        vertical-align: top;\n",
       "    }\n",
       "\n",
       "    .dataframe thead th {\n",
       "        text-align: right;\n",
       "    }\n",
       "</style>\n",
       "<table border=\"1\" class=\"dataframe\">\n",
       "  <thead>\n",
       "    <tr style=\"text-align: right;\">\n",
       "      <th></th>\n",
       "      <th>Rooms</th>\n",
       "      <th>Price</th>\n",
       "      <th>Distance</th>\n",
       "      <th>Bedroom2</th>\n",
       "      <th>Bathroom</th>\n",
       "      <th>Car</th>\n",
       "      <th>Landsize</th>\n",
       "      <th>BuildingArea</th>\n",
       "      <th>Propertycount</th>\n",
       "      <th>Suburb_Aberfeldie</th>\n",
       "      <th>...</th>\n",
       "      <th>CouncilArea_Wyndham City Council</th>\n",
       "      <th>CouncilArea_Yarra City Council</th>\n",
       "      <th>CouncilArea_Yarra Ranges Shire Council</th>\n",
       "      <th>Regionname_Eastern Victoria</th>\n",
       "      <th>Regionname_Northern Metropolitan</th>\n",
       "      <th>Regionname_Northern Victoria</th>\n",
       "      <th>Regionname_South-Eastern Metropolitan</th>\n",
       "      <th>Regionname_Southern Metropolitan</th>\n",
       "      <th>Regionname_Western Metropolitan</th>\n",
       "      <th>Regionname_Western Victoria</th>\n",
       "    </tr>\n",
       "  </thead>\n",
       "  <tbody>\n",
       "    <tr>\n",
       "      <th>1</th>\n",
       "      <td>2</td>\n",
       "      <td>1480000.0</td>\n",
       "      <td>2.5</td>\n",
       "      <td>2.0</td>\n",
       "      <td>1.0</td>\n",
       "      <td>1.0</td>\n",
       "      <td>202.000000</td>\n",
       "      <td>160.2564</td>\n",
       "      <td>4019.0</td>\n",
       "      <td>0</td>\n",
       "      <td>...</td>\n",
       "      <td>0</td>\n",
       "      <td>1</td>\n",
       "      <td>0</td>\n",
       "      <td>0</td>\n",
       "      <td>1</td>\n",
       "      <td>0</td>\n",
       "      <td>0</td>\n",
       "      <td>0</td>\n",
       "      <td>0</td>\n",
       "      <td>0</td>\n",
       "    </tr>\n",
       "    <tr>\n",
       "      <th>2</th>\n",
       "      <td>2</td>\n",
       "      <td>1035000.0</td>\n",
       "      <td>2.5</td>\n",
       "      <td>2.0</td>\n",
       "      <td>1.0</td>\n",
       "      <td>0.0</td>\n",
       "      <td>156.000000</td>\n",
       "      <td>79.0000</td>\n",
       "      <td>4019.0</td>\n",
       "      <td>0</td>\n",
       "      <td>...</td>\n",
       "      <td>0</td>\n",
       "      <td>1</td>\n",
       "      <td>0</td>\n",
       "      <td>0</td>\n",
       "      <td>1</td>\n",
       "      <td>0</td>\n",
       "      <td>0</td>\n",
       "      <td>0</td>\n",
       "      <td>0</td>\n",
       "      <td>0</td>\n",
       "    </tr>\n",
       "    <tr>\n",
       "      <th>4</th>\n",
       "      <td>3</td>\n",
       "      <td>1465000.0</td>\n",
       "      <td>2.5</td>\n",
       "      <td>3.0</td>\n",
       "      <td>2.0</td>\n",
       "      <td>0.0</td>\n",
       "      <td>134.000000</td>\n",
       "      <td>150.0000</td>\n",
       "      <td>4019.0</td>\n",
       "      <td>0</td>\n",
       "      <td>...</td>\n",
       "      <td>0</td>\n",
       "      <td>1</td>\n",
       "      <td>0</td>\n",
       "      <td>0</td>\n",
       "      <td>1</td>\n",
       "      <td>0</td>\n",
       "      <td>0</td>\n",
       "      <td>0</td>\n",
       "      <td>0</td>\n",
       "      <td>0</td>\n",
       "    </tr>\n",
       "    <tr>\n",
       "      <th>5</th>\n",
       "      <td>3</td>\n",
       "      <td>850000.0</td>\n",
       "      <td>2.5</td>\n",
       "      <td>3.0</td>\n",
       "      <td>2.0</td>\n",
       "      <td>1.0</td>\n",
       "      <td>94.000000</td>\n",
       "      <td>160.2564</td>\n",
       "      <td>4019.0</td>\n",
       "      <td>0</td>\n",
       "      <td>...</td>\n",
       "      <td>0</td>\n",
       "      <td>1</td>\n",
       "      <td>0</td>\n",
       "      <td>0</td>\n",
       "      <td>1</td>\n",
       "      <td>0</td>\n",
       "      <td>0</td>\n",
       "      <td>0</td>\n",
       "      <td>0</td>\n",
       "      <td>0</td>\n",
       "    </tr>\n",
       "    <tr>\n",
       "      <th>6</th>\n",
       "      <td>4</td>\n",
       "      <td>1600000.0</td>\n",
       "      <td>2.5</td>\n",
       "      <td>3.0</td>\n",
       "      <td>1.0</td>\n",
       "      <td>2.0</td>\n",
       "      <td>120.000000</td>\n",
       "      <td>142.0000</td>\n",
       "      <td>4019.0</td>\n",
       "      <td>0</td>\n",
       "      <td>...</td>\n",
       "      <td>0</td>\n",
       "      <td>1</td>\n",
       "      <td>0</td>\n",
       "      <td>0</td>\n",
       "      <td>1</td>\n",
       "      <td>0</td>\n",
       "      <td>0</td>\n",
       "      <td>0</td>\n",
       "      <td>0</td>\n",
       "      <td>0</td>\n",
       "    </tr>\n",
       "    <tr>\n",
       "      <th>...</th>\n",
       "      <td>...</td>\n",
       "      <td>...</td>\n",
       "      <td>...</td>\n",
       "      <td>...</td>\n",
       "      <td>...</td>\n",
       "      <td>...</td>\n",
       "      <td>...</td>\n",
       "      <td>...</td>\n",
       "      <td>...</td>\n",
       "      <td>...</td>\n",
       "      <td>...</td>\n",
       "      <td>...</td>\n",
       "      <td>...</td>\n",
       "      <td>...</td>\n",
       "      <td>...</td>\n",
       "      <td>...</td>\n",
       "      <td>...</td>\n",
       "      <td>...</td>\n",
       "      <td>...</td>\n",
       "      <td>...</td>\n",
       "      <td>...</td>\n",
       "    </tr>\n",
       "    <tr>\n",
       "      <th>34852</th>\n",
       "      <td>4</td>\n",
       "      <td>1480000.0</td>\n",
       "      <td>6.3</td>\n",
       "      <td>4.0</td>\n",
       "      <td>1.0</td>\n",
       "      <td>3.0</td>\n",
       "      <td>593.000000</td>\n",
       "      <td>160.2564</td>\n",
       "      <td>6543.0</td>\n",
       "      <td>0</td>\n",
       "      <td>...</td>\n",
       "      <td>0</td>\n",
       "      <td>0</td>\n",
       "      <td>0</td>\n",
       "      <td>0</td>\n",
       "      <td>0</td>\n",
       "      <td>0</td>\n",
       "      <td>0</td>\n",
       "      <td>0</td>\n",
       "      <td>1</td>\n",
       "      <td>0</td>\n",
       "    </tr>\n",
       "    <tr>\n",
       "      <th>34853</th>\n",
       "      <td>2</td>\n",
       "      <td>888000.0</td>\n",
       "      <td>6.3</td>\n",
       "      <td>2.0</td>\n",
       "      <td>2.0</td>\n",
       "      <td>1.0</td>\n",
       "      <td>98.000000</td>\n",
       "      <td>104.0000</td>\n",
       "      <td>6543.0</td>\n",
       "      <td>0</td>\n",
       "      <td>...</td>\n",
       "      <td>0</td>\n",
       "      <td>0</td>\n",
       "      <td>0</td>\n",
       "      <td>0</td>\n",
       "      <td>0</td>\n",
       "      <td>0</td>\n",
       "      <td>0</td>\n",
       "      <td>0</td>\n",
       "      <td>1</td>\n",
       "      <td>0</td>\n",
       "    </tr>\n",
       "    <tr>\n",
       "      <th>34854</th>\n",
       "      <td>2</td>\n",
       "      <td>705000.0</td>\n",
       "      <td>6.3</td>\n",
       "      <td>2.0</td>\n",
       "      <td>1.0</td>\n",
       "      <td>2.0</td>\n",
       "      <td>220.000000</td>\n",
       "      <td>120.0000</td>\n",
       "      <td>6543.0</td>\n",
       "      <td>0</td>\n",
       "      <td>...</td>\n",
       "      <td>0</td>\n",
       "      <td>0</td>\n",
       "      <td>0</td>\n",
       "      <td>0</td>\n",
       "      <td>0</td>\n",
       "      <td>0</td>\n",
       "      <td>0</td>\n",
       "      <td>0</td>\n",
       "      <td>1</td>\n",
       "      <td>0</td>\n",
       "    </tr>\n",
       "    <tr>\n",
       "      <th>34855</th>\n",
       "      <td>3</td>\n",
       "      <td>1140000.0</td>\n",
       "      <td>6.3</td>\n",
       "      <td>0.0</td>\n",
       "      <td>0.0</td>\n",
       "      <td>0.0</td>\n",
       "      <td>593.598993</td>\n",
       "      <td>160.2564</td>\n",
       "      <td>6543.0</td>\n",
       "      <td>0</td>\n",
       "      <td>...</td>\n",
       "      <td>0</td>\n",
       "      <td>0</td>\n",
       "      <td>0</td>\n",
       "      <td>0</td>\n",
       "      <td>0</td>\n",
       "      <td>0</td>\n",
       "      <td>0</td>\n",
       "      <td>0</td>\n",
       "      <td>1</td>\n",
       "      <td>0</td>\n",
       "    </tr>\n",
       "    <tr>\n",
       "      <th>34856</th>\n",
       "      <td>2</td>\n",
       "      <td>1020000.0</td>\n",
       "      <td>6.3</td>\n",
       "      <td>2.0</td>\n",
       "      <td>1.0</td>\n",
       "      <td>0.0</td>\n",
       "      <td>250.000000</td>\n",
       "      <td>103.0000</td>\n",
       "      <td>6543.0</td>\n",
       "      <td>0</td>\n",
       "      <td>...</td>\n",
       "      <td>0</td>\n",
       "      <td>0</td>\n",
       "      <td>0</td>\n",
       "      <td>0</td>\n",
       "      <td>0</td>\n",
       "      <td>0</td>\n",
       "      <td>0</td>\n",
       "      <td>0</td>\n",
       "      <td>1</td>\n",
       "      <td>0</td>\n",
       "    </tr>\n",
       "  </tbody>\n",
       "</table>\n",
       "<p>27244 rows × 745 columns</p>\n",
       "</div>"
      ],
      "text/plain": [
       "       Rooms      Price  Distance  Bedroom2  Bathroom  Car    Landsize  \\\n",
       "1          2  1480000.0       2.5       2.0       1.0  1.0  202.000000   \n",
       "2          2  1035000.0       2.5       2.0       1.0  0.0  156.000000   \n",
       "4          3  1465000.0       2.5       3.0       2.0  0.0  134.000000   \n",
       "5          3   850000.0       2.5       3.0       2.0  1.0   94.000000   \n",
       "6          4  1600000.0       2.5       3.0       1.0  2.0  120.000000   \n",
       "...      ...        ...       ...       ...       ...  ...         ...   \n",
       "34852      4  1480000.0       6.3       4.0       1.0  3.0  593.000000   \n",
       "34853      2   888000.0       6.3       2.0       2.0  1.0   98.000000   \n",
       "34854      2   705000.0       6.3       2.0       1.0  2.0  220.000000   \n",
       "34855      3  1140000.0       6.3       0.0       0.0  0.0  593.598993   \n",
       "34856      2  1020000.0       6.3       2.0       1.0  0.0  250.000000   \n",
       "\n",
       "       BuildingArea  Propertycount  Suburb_Aberfeldie  ...  \\\n",
       "1          160.2564         4019.0                  0  ...   \n",
       "2           79.0000         4019.0                  0  ...   \n",
       "4          150.0000         4019.0                  0  ...   \n",
       "5          160.2564         4019.0                  0  ...   \n",
       "6          142.0000         4019.0                  0  ...   \n",
       "...             ...            ...                ...  ...   \n",
       "34852      160.2564         6543.0                  0  ...   \n",
       "34853      104.0000         6543.0                  0  ...   \n",
       "34854      120.0000         6543.0                  0  ...   \n",
       "34855      160.2564         6543.0                  0  ...   \n",
       "34856      103.0000         6543.0                  0  ...   \n",
       "\n",
       "       CouncilArea_Wyndham City Council  CouncilArea_Yarra City Council  \\\n",
       "1                                     0                               1   \n",
       "2                                     0                               1   \n",
       "4                                     0                               1   \n",
       "5                                     0                               1   \n",
       "6                                     0                               1   \n",
       "...                                 ...                             ...   \n",
       "34852                                 0                               0   \n",
       "34853                                 0                               0   \n",
       "34854                                 0                               0   \n",
       "34855                                 0                               0   \n",
       "34856                                 0                               0   \n",
       "\n",
       "       CouncilArea_Yarra Ranges Shire Council  Regionname_Eastern Victoria  \\\n",
       "1                                           0                            0   \n",
       "2                                           0                            0   \n",
       "4                                           0                            0   \n",
       "5                                           0                            0   \n",
       "6                                           0                            0   \n",
       "...                                       ...                          ...   \n",
       "34852                                       0                            0   \n",
       "34853                                       0                            0   \n",
       "34854                                       0                            0   \n",
       "34855                                       0                            0   \n",
       "34856                                       0                            0   \n",
       "\n",
       "       Regionname_Northern Metropolitan  Regionname_Northern Victoria  \\\n",
       "1                                     1                             0   \n",
       "2                                     1                             0   \n",
       "4                                     1                             0   \n",
       "5                                     1                             0   \n",
       "6                                     1                             0   \n",
       "...                                 ...                           ...   \n",
       "34852                                 0                             0   \n",
       "34853                                 0                             0   \n",
       "34854                                 0                             0   \n",
       "34855                                 0                             0   \n",
       "34856                                 0                             0   \n",
       "\n",
       "       Regionname_South-Eastern Metropolitan  \\\n",
       "1                                          0   \n",
       "2                                          0   \n",
       "4                                          0   \n",
       "5                                          0   \n",
       "6                                          0   \n",
       "...                                      ...   \n",
       "34852                                      0   \n",
       "34853                                      0   \n",
       "34854                                      0   \n",
       "34855                                      0   \n",
       "34856                                      0   \n",
       "\n",
       "       Regionname_Southern Metropolitan  Regionname_Western Metropolitan  \\\n",
       "1                                     0                                0   \n",
       "2                                     0                                0   \n",
       "4                                     0                                0   \n",
       "5                                     0                                0   \n",
       "6                                     0                                0   \n",
       "...                                 ...                              ...   \n",
       "34852                                 0                                1   \n",
       "34853                                 0                                1   \n",
       "34854                                 0                                1   \n",
       "34855                                 0                                1   \n",
       "34856                                 0                                1   \n",
       "\n",
       "       Regionname_Western Victoria  \n",
       "1                                0  \n",
       "2                                0  \n",
       "4                                0  \n",
       "5                                0  \n",
       "6                                0  \n",
       "...                            ...  \n",
       "34852                            0  \n",
       "34853                            0  \n",
       "34854                            0  \n",
       "34855                            0  \n",
       "34856                            0  \n",
       "\n",
       "[27244 rows x 745 columns]"
      ]
     },
     "execution_count": 21,
     "metadata": {},
     "output_type": "execute_result"
    }
   ],
   "source": [
    "df"
   ]
  },
  {
   "cell_type": "code",
   "execution_count": 22,
   "id": "f1fb8566",
   "metadata": {},
   "outputs": [
    {
     "data": {
      "text/html": [
       "<div>\n",
       "<style scoped>\n",
       "    .dataframe tbody tr th:only-of-type {\n",
       "        vertical-align: middle;\n",
       "    }\n",
       "\n",
       "    .dataframe tbody tr th {\n",
       "        vertical-align: top;\n",
       "    }\n",
       "\n",
       "    .dataframe thead th {\n",
       "        text-align: right;\n",
       "    }\n",
       "</style>\n",
       "<table border=\"1\" class=\"dataframe\">\n",
       "  <thead>\n",
       "    <tr style=\"text-align: right;\">\n",
       "      <th></th>\n",
       "      <th>Rooms</th>\n",
       "      <th>Price</th>\n",
       "      <th>Distance</th>\n",
       "      <th>Bedroom2</th>\n",
       "      <th>Bathroom</th>\n",
       "      <th>Car</th>\n",
       "      <th>Landsize</th>\n",
       "      <th>BuildingArea</th>\n",
       "      <th>Propertycount</th>\n",
       "      <th>Suburb_Aberfeldie</th>\n",
       "      <th>...</th>\n",
       "      <th>CouncilArea_Wyndham City Council</th>\n",
       "      <th>CouncilArea_Yarra City Council</th>\n",
       "      <th>CouncilArea_Yarra Ranges Shire Council</th>\n",
       "      <th>Regionname_Eastern Victoria</th>\n",
       "      <th>Regionname_Northern Metropolitan</th>\n",
       "      <th>Regionname_Northern Victoria</th>\n",
       "      <th>Regionname_South-Eastern Metropolitan</th>\n",
       "      <th>Regionname_Southern Metropolitan</th>\n",
       "      <th>Regionname_Western Metropolitan</th>\n",
       "      <th>Regionname_Western Victoria</th>\n",
       "    </tr>\n",
       "  </thead>\n",
       "  <tbody>\n",
       "    <tr>\n",
       "      <th>1</th>\n",
       "      <td>2</td>\n",
       "      <td>1480000.0</td>\n",
       "      <td>2.5</td>\n",
       "      <td>2.0</td>\n",
       "      <td>1.0</td>\n",
       "      <td>1.0</td>\n",
       "      <td>202.0</td>\n",
       "      <td>160.2564</td>\n",
       "      <td>4019.0</td>\n",
       "      <td>0</td>\n",
       "      <td>...</td>\n",
       "      <td>0</td>\n",
       "      <td>1</td>\n",
       "      <td>0</td>\n",
       "      <td>0</td>\n",
       "      <td>1</td>\n",
       "      <td>0</td>\n",
       "      <td>0</td>\n",
       "      <td>0</td>\n",
       "      <td>0</td>\n",
       "      <td>0</td>\n",
       "    </tr>\n",
       "    <tr>\n",
       "      <th>2</th>\n",
       "      <td>2</td>\n",
       "      <td>1035000.0</td>\n",
       "      <td>2.5</td>\n",
       "      <td>2.0</td>\n",
       "      <td>1.0</td>\n",
       "      <td>0.0</td>\n",
       "      <td>156.0</td>\n",
       "      <td>79.0000</td>\n",
       "      <td>4019.0</td>\n",
       "      <td>0</td>\n",
       "      <td>...</td>\n",
       "      <td>0</td>\n",
       "      <td>1</td>\n",
       "      <td>0</td>\n",
       "      <td>0</td>\n",
       "      <td>1</td>\n",
       "      <td>0</td>\n",
       "      <td>0</td>\n",
       "      <td>0</td>\n",
       "      <td>0</td>\n",
       "      <td>0</td>\n",
       "    </tr>\n",
       "    <tr>\n",
       "      <th>4</th>\n",
       "      <td>3</td>\n",
       "      <td>1465000.0</td>\n",
       "      <td>2.5</td>\n",
       "      <td>3.0</td>\n",
       "      <td>2.0</td>\n",
       "      <td>0.0</td>\n",
       "      <td>134.0</td>\n",
       "      <td>150.0000</td>\n",
       "      <td>4019.0</td>\n",
       "      <td>0</td>\n",
       "      <td>...</td>\n",
       "      <td>0</td>\n",
       "      <td>1</td>\n",
       "      <td>0</td>\n",
       "      <td>0</td>\n",
       "      <td>1</td>\n",
       "      <td>0</td>\n",
       "      <td>0</td>\n",
       "      <td>0</td>\n",
       "      <td>0</td>\n",
       "      <td>0</td>\n",
       "    </tr>\n",
       "    <tr>\n",
       "      <th>5</th>\n",
       "      <td>3</td>\n",
       "      <td>850000.0</td>\n",
       "      <td>2.5</td>\n",
       "      <td>3.0</td>\n",
       "      <td>2.0</td>\n",
       "      <td>1.0</td>\n",
       "      <td>94.0</td>\n",
       "      <td>160.2564</td>\n",
       "      <td>4019.0</td>\n",
       "      <td>0</td>\n",
       "      <td>...</td>\n",
       "      <td>0</td>\n",
       "      <td>1</td>\n",
       "      <td>0</td>\n",
       "      <td>0</td>\n",
       "      <td>1</td>\n",
       "      <td>0</td>\n",
       "      <td>0</td>\n",
       "      <td>0</td>\n",
       "      <td>0</td>\n",
       "      <td>0</td>\n",
       "    </tr>\n",
       "    <tr>\n",
       "      <th>6</th>\n",
       "      <td>4</td>\n",
       "      <td>1600000.0</td>\n",
       "      <td>2.5</td>\n",
       "      <td>3.0</td>\n",
       "      <td>1.0</td>\n",
       "      <td>2.0</td>\n",
       "      <td>120.0</td>\n",
       "      <td>142.0000</td>\n",
       "      <td>4019.0</td>\n",
       "      <td>0</td>\n",
       "      <td>...</td>\n",
       "      <td>0</td>\n",
       "      <td>1</td>\n",
       "      <td>0</td>\n",
       "      <td>0</td>\n",
       "      <td>1</td>\n",
       "      <td>0</td>\n",
       "      <td>0</td>\n",
       "      <td>0</td>\n",
       "      <td>0</td>\n",
       "      <td>0</td>\n",
       "    </tr>\n",
       "  </tbody>\n",
       "</table>\n",
       "<p>5 rows × 745 columns</p>\n",
       "</div>"
      ],
      "text/plain": [
       "   Rooms      Price  Distance  Bedroom2  Bathroom  Car  Landsize  \\\n",
       "1      2  1480000.0       2.5       2.0       1.0  1.0     202.0   \n",
       "2      2  1035000.0       2.5       2.0       1.0  0.0     156.0   \n",
       "4      3  1465000.0       2.5       3.0       2.0  0.0     134.0   \n",
       "5      3   850000.0       2.5       3.0       2.0  1.0      94.0   \n",
       "6      4  1600000.0       2.5       3.0       1.0  2.0     120.0   \n",
       "\n",
       "   BuildingArea  Propertycount  Suburb_Aberfeldie  ...  \\\n",
       "1      160.2564         4019.0                  0  ...   \n",
       "2       79.0000         4019.0                  0  ...   \n",
       "4      150.0000         4019.0                  0  ...   \n",
       "5      160.2564         4019.0                  0  ...   \n",
       "6      142.0000         4019.0                  0  ...   \n",
       "\n",
       "   CouncilArea_Wyndham City Council  CouncilArea_Yarra City Council  \\\n",
       "1                                 0                               1   \n",
       "2                                 0                               1   \n",
       "4                                 0                               1   \n",
       "5                                 0                               1   \n",
       "6                                 0                               1   \n",
       "\n",
       "   CouncilArea_Yarra Ranges Shire Council  Regionname_Eastern Victoria  \\\n",
       "1                                       0                            0   \n",
       "2                                       0                            0   \n",
       "4                                       0                            0   \n",
       "5                                       0                            0   \n",
       "6                                       0                            0   \n",
       "\n",
       "   Regionname_Northern Metropolitan  Regionname_Northern Victoria  \\\n",
       "1                                 1                             0   \n",
       "2                                 1                             0   \n",
       "4                                 1                             0   \n",
       "5                                 1                             0   \n",
       "6                                 1                             0   \n",
       "\n",
       "   Regionname_South-Eastern Metropolitan  Regionname_Southern Metropolitan  \\\n",
       "1                                      0                                 0   \n",
       "2                                      0                                 0   \n",
       "4                                      0                                 0   \n",
       "5                                      0                                 0   \n",
       "6                                      0                                 0   \n",
       "\n",
       "   Regionname_Western Metropolitan  Regionname_Western Victoria  \n",
       "1                                0                            0  \n",
       "2                                0                            0  \n",
       "4                                0                            0  \n",
       "5                                0                            0  \n",
       "6                                0                            0  \n",
       "\n",
       "[5 rows x 745 columns]"
      ]
     },
     "execution_count": 22,
     "metadata": {},
     "output_type": "execute_result"
    }
   ],
   "source": [
    "df.head()"
   ]
  },
  {
   "cell_type": "code",
   "execution_count": 23,
   "id": "f8caaea4",
   "metadata": {},
   "outputs": [],
   "source": [
    "X = df.drop('Price', axis=1)\n",
    "y = df['Price']"
   ]
  },
  {
   "cell_type": "code",
   "execution_count": 86,
   "id": "2c72b0bb",
   "metadata": {},
   "outputs": [
    {
     "data": {
      "text/plain": [
       "1    1480000.0\n",
       "2    1035000.0\n",
       "4    1465000.0\n",
       "5     850000.0\n",
       "6    1600000.0\n",
       "Name: Price, dtype: float64"
      ]
     },
     "execution_count": 86,
     "metadata": {},
     "output_type": "execute_result"
    }
   ],
   "source": [
    "y.head()"
   ]
  },
  {
   "cell_type": "code",
   "execution_count": 120,
   "id": "153480aa",
   "metadata": {},
   "outputs": [],
   "source": [
    "from sklearn.model_selection import train_test_split \n",
    "X_train,X_test,y_train,y_test = train_test_split(X,y,test_size=0.3,random_state=2, )"
   ]
  },
  {
   "cell_type": "markdown",
   "id": "966eadf6",
   "metadata": {},
   "source": [
    "# Apply LinearRegression"
   ]
  },
  {
   "cell_type": "code",
   "execution_count": 91,
   "id": "06c39f81",
   "metadata": {},
   "outputs": [
    {
     "data": {
      "text/plain": [
       "LinearRegression()"
      ]
     },
     "execution_count": 91,
     "metadata": {},
     "output_type": "execute_result"
    }
   ],
   "source": [
    "from sklearn.linear_model import LinearRegression   \n",
    "reg=LinearRegression()\n",
    "reg.fit(X_train,y_train)"
   ]
  },
  {
   "cell_type": "code",
   "execution_count": 92,
   "id": "133dd63b",
   "metadata": {},
   "outputs": [
    {
     "data": {
      "text/plain": [
       "0.13853683161528418"
      ]
     },
     "execution_count": 92,
     "metadata": {},
     "output_type": "execute_result"
    }
   ],
   "source": [
    "reg.score(X_test,y_test)"
   ]
  },
  {
   "cell_type": "code",
   "execution_count": 93,
   "id": "6f52f71e",
   "metadata": {},
   "outputs": [
    {
     "data": {
      "text/plain": [
       "0.6827792395792723"
      ]
     },
     "execution_count": 93,
     "metadata": {},
     "output_type": "execute_result"
    }
   ],
   "source": [
    "reg.score(X_train,y_train)"
   ]
  },
  {
   "cell_type": "markdown",
   "id": "94438017",
   "metadata": {},
   "source": [
    "# predict data"
   ]
  },
  {
   "cell_type": "code",
   "execution_count": 31,
   "id": "b62db1d6",
   "metadata": {},
   "outputs": [],
   "source": [
    "y_pred=reg.predict(X_test)"
   ]
  },
  {
   "cell_type": "code",
   "execution_count": 94,
   "id": "10dc96bf",
   "metadata": {},
   "outputs": [
    {
     "data": {
      "text/plain": [
       "<matplotlib.collections.PathCollection at 0x24c93bbee50>"
      ]
     },
     "execution_count": 94,
     "metadata": {},
     "output_type": "execute_result"
    },
    {
     "data": {
      "image/png": "[encoded data removed]",
      "text/plain": [
       "<Figure size 432x288 with 1 Axes>"
      ]
     },
     "metadata": {
      "needs_background": "light"
     },
     "output_type": "display_data"
    }
   ],
   "source": [
    "plt.scatter(y_test,y_pred)"
   ]
  },
  {
   "cell_type": "code",
   "execution_count": 102,
   "id": "9debd788",
   "metadata": {},
   "outputs": [],
   "source": [
    "from sklearn.metrics import r2_score,mean_squared_error,mean_absolute_error\n"
   ]
  },
  {
   "cell_type": "code",
   "execution_count": 103,
   "id": "302b0b90",
   "metadata": {},
   "outputs": [
    {
     "name": "stdout",
     "output_type": "stream",
     "text": [
      "r2_score:  0.13853683161528418\n",
      "MSE :  342275472104.18616\n",
      "MAE :  246805.62890763526\n",
      "RMSE :  585043.1369601614\n"
     ]
    }
   ],
   "source": [
    "print(\"r2_score: \",r2_score(y_test,y_pred))\n",
    "print(\"MSE : \",mean_squared_error(y_test,y_pred))\n",
    "print(\"MAE : \",mean_absolute_error(y_test,y_pred))\n",
    "print(\"RMSE : \",math.sqrt(mean_squared_error(y_test,y_pred))) "
   ]
  },
  {
   "cell_type": "markdown",
   "id": "03c4dfc2",
   "metadata": {},
   "source": [
    "# Model Regularization"
   ]
  },
  {
   "cell_type": "markdown",
   "id": "3c2b4cfc",
   "metadata": {},
   "source": [
    "# RIDGE"
   ]
  },
  {
   "cell_type": "code",
   "execution_count": 104,
   "id": "f2a14b15",
   "metadata": {},
   "outputs": [],
   "source": [
    "from sklearn.linear_model import Ridge    "
   ]
  },
  {
   "cell_type": "code",
   "execution_count": 105,
   "id": "860a87a1",
   "metadata": {},
   "outputs": [
    {
     "data": {
      "text/plain": [
       "Ridge(alpha=50, max_iter=100)"
      ]
     },
     "execution_count": 105,
     "metadata": {},
     "output_type": "execute_result"
    }
   ],
   "source": [
    "ridge_reg= Ridge(alpha=50, max_iter=100,)\n",
    "ridge_reg.fit(X_train, y_train)"
   ]
  },
  {
   "cell_type": "code",
   "execution_count": 106,
   "id": "29a06fc9",
   "metadata": {},
   "outputs": [
    {
     "data": {
      "text/plain": [
       "0.6670848945194976"
      ]
     },
     "execution_count": 106,
     "metadata": {},
     "output_type": "execute_result"
    }
   ],
   "source": [
    "ridge_reg.score(X_test,y_test)"
   ]
  },
  {
   "cell_type": "code",
   "execution_count": 34,
   "id": "ab019b85",
   "metadata": {},
   "outputs": [],
   "source": [
    "y_predict=ridge_reg.predict(X_test)"
   ]
  },
  {
   "cell_type": "code",
   "execution_count": 107,
   "id": "3dfe2bf8",
   "metadata": {},
   "outputs": [
    {
     "data": {
      "text/plain": [
       "0.6622376739684324"
      ]
     },
     "execution_count": 107,
     "metadata": {},
     "output_type": "execute_result"
    }
   ],
   "source": [
    "ridge_reg.score(X_train, y_train)"
   ]
  },
  {
   "cell_type": "code",
   "execution_count": 36,
   "id": "24b5acf3",
   "metadata": {},
   "outputs": [],
   "source": [
    "# Lasso Regression"
   ]
  },
  {
   "cell_type": "code",
   "execution_count": 37,
   "id": "f0e3c475",
   "metadata": {},
   "outputs": [
    {
     "name": "stderr",
     "output_type": "stream",
     "text": [
      "C:\\Users\\admin\\anaconda3\\lib\\site-packages\\sklearn\\linear_model\\_coordinate_descent.py:530: ConvergenceWarning: Objective did not converge. You might want to increase the number of iterations. Duality gap: 1329087287481363.5, tolerance: 796258688308.2257\n",
      "  model = cd_fast.enet_coordinate_descent(\n"
     ]
    },
    {
     "data": {
      "text/plain": [
       "Lasso(alpha=50, max_iter=100)"
      ]
     },
     "execution_count": 37,
     "metadata": {},
     "output_type": "execute_result"
    }
   ],
   "source": [
    "Lasso_reg=Lasso(alpha=50,max_iter=100)\n",
    "Lasso_reg.fit(X_train,y_train)"
   ]
  },
  {
   "cell_type": "code",
   "execution_count": 38,
   "id": "3f26e0a0",
   "metadata": {},
   "outputs": [
    {
     "data": {
      "text/plain": [
       "0.6767356948457685"
      ]
     },
     "execution_count": 38,
     "metadata": {},
     "output_type": "execute_result"
    }
   ],
   "source": [
    "Lasso_reg.score(X_train,y_train)"
   ]
  },
  {
   "cell_type": "code",
   "execution_count": 39,
   "id": "ccc47363",
   "metadata": {},
   "outputs": [
    {
     "data": {
      "text/plain": [
       "0.6767356948457685"
      ]
     },
     "execution_count": 39,
     "metadata": {},
     "output_type": "execute_result"
    }
   ],
   "source": [
    "Lasso_reg.score(X_train, y_train)\n"
   ]
  },
  {
   "cell_type": "code",
   "execution_count": 40,
   "id": "97f253dc",
   "metadata": {},
   "outputs": [],
   "source": [
    "y_predict=Lasso_reg.predict(X_test)"
   ]
  },
  {
   "cell_type": "code",
   "execution_count": 41,
   "id": "b90a9ff2",
   "metadata": {},
   "outputs": [
    {
     "name": "stdout",
     "output_type": "stream",
     "text": [
      "coefficient: [ 2.64001655e+05 -4.64732744e+04 -8.22349031e+04  1.17151153e+05\n",
      "  4.29703140e+04  2.35173742e+00  4.70024530e+02  4.92118905e+00\n",
      "  2.61342069e+05 -4.61008827e+04 -1.32312259e+05  2.15453995e+05\n",
      "  1.20133839e+05  2.72683980e+05  1.74702166e+05 -8.00201053e+04\n",
      " -1.50967673e+05 -4.94461444e+04  1.17711126e+05 -1.28880253e+05\n",
      " -3.49349656e+04 -8.54261329e+03  6.19157896e+04 -2.57258028e+05\n",
      " -1.10868116e+05 -2.42391674e+05  1.79856957e+05 -1.22395100e+05\n",
      "  2.04625284e+05  3.78258911e+04  1.46681364e+05  2.32198627e+03\n",
      "  7.35395731e+04 -5.29198411e+04  1.90482393e+05 -3.20451670e+05\n",
      "  7.49515014e+04 -2.83019804e+04  2.69103300e+04  2.78824270e+05\n",
      "  1.51386730e+05 -1.06324212e+05 -8.45087700e+04  2.96568248e+05\n",
      "  1.50644588e+05  1.26194209e-07  1.75999576e+05 -1.20057166e+05\n",
      " -9.64544651e+03  3.68377378e+05 -1.35478625e+05 -6.38092126e+04\n",
      "  3.53493139e+04  1.12364756e+05  1.50210824e+04  3.80702958e+04\n",
      " -2.07783976e+04  1.76019967e-07 -2.80289620e+05  3.62799617e+06\n",
      " -1.70813150e+05  4.34592162e+03 -2.42377714e+05 -3.46858959e+05\n",
      " -5.38387981e+04 -5.68653064e+04 -1.25183575e+05  7.32456333e+04\n",
      " -1.49059860e+05  5.81185670e+05  1.46226853e+05  3.17997075e+05\n",
      " -4.57316260e+03 -2.55638831e+05  3.69455304e+05 -1.15029553e+05\n",
      " -2.11025506e+05  8.21526909e+04  2.36197162e+04  2.12508573e+04\n",
      " -5.82009613e+04  3.49164828e+05 -4.06742065e+04 -2.43821088e+05\n",
      " -2.12390672e+05 -3.73145696e+05  1.86572073e+04 -2.25972697e+05\n",
      "  1.27539824e+05  3.85986055e+05 -1.34115133e+05 -2.24490607e+05\n",
      " -1.58738964e+05  3.20740510e+04 -5.87051931e+04 -8.51778156e+04\n",
      "  1.43016150e+03  1.84505150e+04 -5.84566148e+04 -6.55575568e+03\n",
      " -2.39441933e+04  5.22360613e+04 -6.13585217e+04  4.67653420e+04\n",
      "  1.11906081e+05 -3.03524602e+05  4.91638266e+04 -1.10861406e+05\n",
      "  3.07045411e-07  5.25384277e+04 -6.48677726e+04 -4.42026058e+03\n",
      " -1.63737753e+05 -1.16744031e+05  2.08371325e+05 -1.92328642e+05\n",
      " -4.19130496e+05 -2.27472230e+04  1.94858270e+04  1.13215212e+05\n",
      " -2.32309284e+05 -9.15221377e+04  3.91898843e+05  3.71809224e+05\n",
      "  2.14264774e+05  4.56828686e+04  1.77559141e+04 -1.93905771e+05\n",
      "  3.66816256e+04  3.38113878e+05 -2.79050352e+05 -8.29367251e+04\n",
      "  9.97135675e+04  6.29461728e+04 -1.28958954e+04 -1.10885594e-08\n",
      " -1.51063432e-07  1.51675664e+05 -8.34519510e+04  1.32289977e+05\n",
      " -2.74769263e-07  1.88968644e+05  2.27651164e+05 -7.45096449e+04\n",
      " -3.91229683e+04 -8.01720716e+04  2.10537725e+05  3.41965887e+03\n",
      "  4.31104649e+05 -1.41337601e+05  3.58517423e+06  3.58964287e+06\n",
      " -2.33369616e+05 -2.08870436e+04 -7.74835945e+04  2.62966427e+05\n",
      " -7.85407926e+04 -1.62721244e+05  6.40544210e+04  3.09646400e+04\n",
      " -1.20989873e+05  8.61815063e+04  1.73121003e+05 -2.27069888e+05\n",
      " -2.58026614e+04 -2.67500635e+05 -1.32163855e+05  7.82800590e+05\n",
      " -1.24592191e+05  4.38940519e+04 -1.00942551e+05 -3.11541673e+05\n",
      " -4.44153152e+05 -1.21722020e+05 -3.36690866e+04 -1.64000640e+04\n",
      "  4.89990221e+04 -1.55566512e+05  4.90631010e+04 -1.47225364e+04\n",
      "  4.28312699e+05 -1.49880671e+05  2.32370587e+05 -1.49126738e+05\n",
      "  1.17089769e+05 -2.21276971e+04  5.75378587e+04  2.26855684e+05\n",
      " -5.30691460e+04 -7.69823131e+04 -8.66406502e+04 -1.45452985e+05\n",
      "  4.79451757e+04  9.64929441e+04 -3.73488957e+04 -7.47806908e+03\n",
      "  8.85013855e+04 -2.09808037e+04  6.43567662e+04  2.69324350e+05\n",
      " -1.75802482e+05  1.60203278e+05  8.68965147e+03 -1.27725760e+05\n",
      "  4.32684775e+04  9.52092704e+04  1.42820815e+05  7.56299670e+04\n",
      " -6.66299661e+04  4.12652219e+05 -2.37206273e+04 -1.69397975e+04\n",
      "  1.99998148e+05 -4.93913356e+04  8.05303221e+03 -4.09129648e+04\n",
      " -4.66189632e+03  2.43831423e+05  9.54077116e+04  7.43722706e+04\n",
      "  6.84473453e+04  5.45882056e+05 -1.66101989e+05  1.00262668e+05\n",
      " -2.44312781e+04  1.07806494e+05 -2.64896940e+04 -3.30293442e+05\n",
      "  6.83588985e+04 -1.45828165e+05 -2.24756995e+05  1.74303293e+05\n",
      " -7.35196577e+04  1.39208243e+05 -3.28319733e+04 -8.16548098e+03\n",
      "  8.29707192e+04 -1.70745894e+07 -4.93877616e+04  5.62048104e+04\n",
      " -4.64607964e+03 -2.94956617e+04  4.33613194e+05  1.50951595e+05\n",
      "  1.10255451e+05  1.43455317e+04  1.01343234e+05 -6.23746389e+02\n",
      " -3.19540672e+04 -3.66958402e+05  3.29968640e+04  1.10537261e+05\n",
      "  8.45386941e+04  2.24213986e+05  3.02731380e+05 -3.73432326e+04\n",
      "  2.03679807e+05  3.67140495e+05  1.90774035e+05 -2.10308058e+05\n",
      " -5.41525765e+04 -3.13521550e+05 -1.07316001e+05  4.35657534e+05\n",
      " -2.12983273e+05 -1.27317003e+05 -4.55798872e+03  3.72013770e+06\n",
      "  4.28054514e+04  9.13734826e+04 -6.29598262e+04 -1.22422551e+05\n",
      "  3.95900570e+05 -1.79171948e+05 -2.23235905e+05 -9.05652186e+04\n",
      " -1.24989602e+05  1.74799999e+05  8.10324558e+04 -1.75102638e+05\n",
      "  1.87501424e+05  6.43885732e+04  5.78270941e+04  2.16001414e+05\n",
      " -3.82162193e+05 -6.48997658e+04 -1.28734627e+05 -1.10232449e+05\n",
      " -9.96186648e+04 -3.99572192e+05 -7.05604302e+04 -3.08505777e+04\n",
      "  2.95247213e+04  4.38872026e+04 -2.58987960e+05 -1.48687142e+05\n",
      "  8.53780738e+04 -1.61286396e+05  4.70520152e+05  4.30905486e+04\n",
      " -6.68487513e+04 -1.57690339e+05  2.91622053e+04  1.16054180e+05\n",
      " -5.36171763e+04 -1.91002039e+05 -4.08693867e+04 -1.71654392e-07\n",
      "  1.13483519e+05 -1.69881830e+05  1.88296374e+05 -6.03018126e+04\n",
      "  5.43477940e+04  7.22834127e+04  2.18994627e+04 -6.60482469e+04\n",
      "  1.10944153e+05 -4.88384475e+04 -3.55271264e+04  3.22133311e+04\n",
      " -3.44950732e+05  4.19717839e+05  1.59891743e+05 -2.61106654e+05\n",
      " -2.25289823e+05  4.14927680e+05 -2.14622941e+05 -3.20620134e+04\n",
      "  7.75063095e+04 -7.25080114e+04 -3.16742534e+04 -1.67403490e+05\n",
      " -8.77419827e+04 -5.89166674e+04  4.88562011e+04 -8.08491868e+04\n",
      " -1.62022300e+05  4.65811303e+05  4.10853539e+05 -1.71988925e+04\n",
      "  3.03450379e+05 -2.87535370e+03 -1.53891675e+05  1.42659814e+05\n",
      " -4.84645620e+03  4.05389293e+05 -1.07916354e+05  2.54322871e+05\n",
      "  3.84614603e+04 -3.64762625e+04 -3.85480430e+04 -2.74249921e+05\n",
      " -4.78638143e+05  7.13447079e+04  3.70939160e+04  3.26116000e+04\n",
      "  1.47147151e+04 -4.97983196e+04  1.23665612e+05  7.53123093e+05\n",
      "  1.76890126e+05 -1.18801836e-07  5.14482663e+05  1.14546661e+05\n",
      " -9.80624456e+04 -1.38614089e+05 -1.66790347e+04 -1.12822691e+05\n",
      "  1.93670126e+05  2.55161796e+05 -1.57484822e+05 -6.28092130e+04\n",
      "  1.22195660e+05 -1.12638254e+05  1.70418827e+05 -1.44523794e+04\n",
      "  3.52010027e+05  2.11671077e+05  9.93172746e+04  4.16123302e+05\n",
      " -7.46423125e+04  8.45852697e+04 -2.04922788e+03  8.05677238e+04\n",
      "  2.74200916e+05  1.09644553e+05  5.26628759e+04 -2.56986823e-08\n",
      "  1.13230018e+05  3.66191671e-07  8.08024520e+04  8.48022697e+05\n",
      " -1.30297849e-07 -5.58390164e+05  1.04744352e+05 -2.11658017e+05\n",
      " -2.18050205e+04  1.07178179e+05  1.82990240e+05  1.08785559e+05\n",
      "  5.89172551e+04  1.70384474e+05 -4.08908818e-08 -9.54807526e+03\n",
      "  1.09721979e+05 -9.93742188e+04  3.61972875e+05 -8.86211637e-08\n",
      " -5.70535148e+04  1.04347344e+05 -1.73015750e+05  4.55491839e+05\n",
      "  1.40690247e+05  2.84344424e-08  1.80955699e+05  4.93857123e+05\n",
      "  1.25502353e+05 -5.02929519e+05  1.56920807e+05 -2.54761319e+05\n",
      "  1.76535211e+05 -2.09782291e+05  1.47294579e+05  2.08252521e+02\n",
      "  3.66287160e+05  1.16352975e+05  2.51706031e+05 -2.14160536e-07\n",
      "  2.68433601e+05  1.58093671e+05  2.57441813e+05 -5.04510781e+03\n",
      " -1.71186390e+05 -3.18829112e+03  9.43052822e+04  9.44735937e+04\n",
      "  8.45489742e+04 -2.21451056e+04  1.37543076e+06  2.02918365e+05\n",
      "  7.18308190e+03  1.32174741e+05 -4.91389112e+03 -1.86264515e-09\n",
      " -1.93664878e+05 -7.61071441e+03 -3.18875869e+04  9.05543135e+04\n",
      "  1.02563902e+05  3.80185495e+05  7.65580291e+04  9.93937706e+04\n",
      "  1.18055239e+05  9.55709321e+04  1.14506299e+05  9.12714274e+04\n",
      " -1.13332948e+05 -7.39045077e+04  5.84404916e-08  1.93103915e-08\n",
      "  7.47584274e+04 -6.23767846e-08  2.82127436e+04  1.21433252e+05\n",
      "  1.18684248e+05 -3.29414442e+05 -6.75924753e+04  3.26628034e+04\n",
      " -3.92787005e+05 -9.83423504e+04 -5.50663589e+03  1.20162572e+05\n",
      "  8.49129927e+04  5.79639629e+05  9.91517764e+04  1.30448391e+06\n",
      " -1.18859883e+05 -2.24228911e+05  9.64116760e+04 -8.79272625e+04\n",
      "  6.85396694e+04 -3.14994882e+04  5.30344055e+04  1.41116158e+05\n",
      "  2.50683184e+05  7.79003343e+03  1.45634191e+06  1.86064314e+05\n",
      "  1.31531000e+05 -7.07223080e-08  8.92378614e+04  4.07573503e+04\n",
      "  1.49188947e+04  9.91561814e+04  1.36653281e+05  8.39172571e-08\n",
      "  1.49569360e+05  1.17085568e+05  1.71835072e+05  1.78020014e+05\n",
      "  1.21915184e+05 -1.43905679e+05 -4.32528035e+05  1.92102455e+05\n",
      " -1.96934553e+05  4.68488324e+04 -2.93513773e+05  5.57081987e+05\n",
      " -2.11469696e+05  1.17235675e+05  9.18429428e+05 -1.16674010e+04\n",
      "  1.26746730e+05 -7.53943094e+04  7.89438422e+04 -1.82950073e+02\n",
      "  7.74044051e+05 -9.27483690e+04  2.38338540e+05  2.07516884e+05\n",
      "  2.51718322e+04  1.33933903e+05  2.75227231e+04  2.87491295e+04\n",
      "  2.77899052e+05  1.39467691e+05 -3.01515684e-08 -4.96560347e+05\n",
      "  9.59471875e+04  3.57640140e+05 -1.84383805e+04  1.06868600e+05\n",
      " -3.57217064e+04 -1.53214223e+05 -5.27241787e+04  1.02512919e+05\n",
      "  3.83446784e+05 -1.28239558e+05  7.72616653e+04  3.30670721e+05\n",
      "  1.80511050e+05 -2.62225512e-08  1.23750972e+05 -1.49757037e+05\n",
      " -1.25000952e-08  1.58017785e+05 -4.63624019e-08  7.18798630e+04\n",
      " -6.09912947e+04  2.11310239e+05  1.97123976e+05  6.90046026e+04\n",
      "  1.92850887e+05  1.11405761e+05  7.18641121e+05  2.67202552e+05\n",
      "  1.20396076e+05 -1.81920829e+05  1.11717868e+05  1.46927396e+05\n",
      "  1.76073719e+05 -2.56586520e+04  1.03744404e+05  1.04372243e+05\n",
      "  2.75725026e+05  8.87631475e+05 -1.40661350e+04  4.28234464e+04\n",
      "  2.40476618e+05  5.25669353e+04 -2.12079613e-07  7.36308707e+04\n",
      " -1.99177851e+05  7.73502032e+04  3.96904685e+05  1.22746274e+05\n",
      "  1.25736135e+04  1.02372881e+05 -4.62355767e+04 -5.72395033e+03\n",
      " -5.81698604e+04 -1.77656602e+04  2.91038305e-09 -1.49447249e+04\n",
      "  3.04713671e+05  1.08773530e+05  1.27825327e+05  3.27363214e+05\n",
      "  3.01491136e+05  3.22605797e+05  4.23817624e+05  2.38984594e+04\n",
      "  1.10893901e+05  1.10833058e+05  4.99224168e+04 -2.72411853e-08\n",
      "  3.85189196e-08  8.78265313e+04 -2.70844614e+04  2.13634454e+05\n",
      "  2.17696652e-08 -3.09386431e+05  1.74869189e+04  1.82083979e+05\n",
      "  7.84253288e+04  1.24359081e+05  2.11054351e+04  3.35096696e+05\n",
      "  8.94984408e+04  8.20956293e+04 -5.56144010e+04  6.04010160e+04\n",
      "  3.64450459e+04  7.46513251e-09  4.47627863e+05  1.75597620e+05\n",
      "  1.01251403e+05  1.34898188e+05  7.90194943e+04  8.39610064e+04\n",
      "  5.87897375e-09  1.21505969e+05  1.58757215e+05  3.76753394e+04\n",
      " -1.68165101e+05  3.80750152e+05 -3.05349468e+05  1.82053090e+05\n",
      "  1.22623995e+05  2.17097847e+05  6.92671165e-09  8.14907253e-09\n",
      " -4.15794812e+05  6.37156712e+04 -1.02596291e+05 -1.02712201e+05\n",
      "  6.43922249e-10  1.93156972e+05 -1.51339918e-09  1.55298937e+06\n",
      "  1.21398440e+05  2.30793376e-08 -4.23187912e+03 -7.48296109e+04\n",
      "  9.25055732e+04  1.05937943e-08  9.11296906e+04 -6.80629942e+03\n",
      " -2.30684236e-08  5.00408414e+05 -9.90985427e-09  6.56807502e+04\n",
      " -2.73937792e+04 -1.25520379e+04 -5.08471536e+05 -2.87263009e+04\n",
      "  1.79261296e+05  1.39028865e+05 -5.61904998e+05 -5.82076609e-11\n",
      "  3.61198092e+05  2.43832418e+05  1.22216980e+04 -1.81898940e-11\n",
      "  0.00000000e+00  0.00000000e+00  0.00000000e+00 -2.10162309e+05\n",
      "  1.46042630e+05  3.94558288e+04  1.75865554e+05  1.80934935e+05\n",
      "  6.56774151e+04  0.00000000e+00  1.08108392e+05 -4.81375842e+04\n",
      " -8.80354052e+04  3.64996443e+05  5.22248384e+04  6.52251781e+04\n",
      "  1.27802669e+05  1.44424475e+05 -3.42064972e+04  3.36774085e+04\n",
      "  8.43057920e+04 -1.44455922e+04 -2.45114659e+05  8.96434739e+04\n",
      "  2.90705747e+04  2.56370954e+05  4.19635090e+04  2.53727923e+05\n",
      "  2.89923960e+05  0.00000000e+00  1.64218522e+05  0.00000000e+00\n",
      "  6.34959842e+05  1.36601956e+05  3.40256922e+05  8.36021884e+04\n",
      "  0.00000000e+00  0.00000000e+00  1.74777311e+05  1.90932861e+05\n",
      " -1.11791365e+04  4.57513423e+05  3.42212920e+05 -1.52759812e+05\n",
      "  4.76269168e+05  2.35751036e+05  2.89422194e+04  3.70585386e+05\n",
      "  1.43902269e+05 -1.97243398e+04 -4.25829580e+04 -3.71251895e+04\n",
      "  2.30153703e+05  1.11152390e+05 -2.55163838e+06  1.34732814e+05\n",
      " -1.16876625e+05  1.39810549e+05  4.22122163e+04 -1.23209577e+04\n",
      "  4.19717839e+05  7.65053785e+04  6.42879529e+04  1.79856957e+05\n",
      " -3.82877635e+04  2.56105949e+05  1.21886580e+05  3.29761347e+05\n",
      "  1.31991945e+05  8.74679302e+04 -1.47280371e+05  2.17770891e+04\n",
      "  2.12321402e+05  2.23139975e+05 -2.16051847e+05 -8.03539773e+04\n",
      "  1.29462472e+05  1.96957251e+04 -2.16808841e+05  1.69631410e+05]\n",
      "intercept: 636394.7290963066\n"
     ]
    }
   ],
   "source": [
    "print('coefficient:',reg.coef_)\n",
    "print('intercept:',reg.intercept_)"
   ]
  },
  {
   "cell_type": "code",
   "execution_count": 42,
   "id": "829ee827",
   "metadata": {},
   "outputs": [
    {
     "name": "stdout",
     "output_type": "stream",
     "text": [
      "mean_squared_error:  133591688422.44235\n",
      "mean_absolute_error:  236920.9358677323\n",
      "R2_score:  0.6637669697137103\n",
      "root_mean_squared_error:  365501.9677408623\n"
     ]
    }
   ],
   "source": [
    "print('mean_squared_error: ',mean_squared_error(y_test,y_predict))\n",
    "print('mean_absolute_error: ',mean_absolute_error(y_test,y_predict))\n",
    "print('R2_score: ',r2_score(y_test,y_predict))\n",
    "print('root_mean_squared_error: ',math.sqrt(mean_squared_error(y_test,y_predict)))"
   ]
  },
  {
   "cell_type": "code",
   "execution_count": null,
   "id": "cf5c3f2d",
   "metadata": {},
   "outputs": [],
   "source": [
    "y_predict=reg.predict(X)\n",
    "y_predict"
   ]
  },
  {
   "cell_type": "markdown",
   "id": "fb066468",
   "metadata": {},
   "source": [
    "# RandomForest Regressor"
   ]
  },
  {
   "cell_type": "code",
   "execution_count": 122,
   "id": "505ebe3e",
   "metadata": {},
   "outputs": [],
   "source": []
  },
  {
   "cell_type": "code",
   "execution_count": null,
   "id": "b20a2109",
   "metadata": {},
   "outputs": [],
   "source": [
    "from sklearn.ensemble import RandomForestRegressor\n",
    "rf=RandomForestRegressor(250)\n",
    "rf.fit(X_train,y_train)"
   ]
  },
  {
   "cell_type": "code",
   "execution_count": null,
   "id": "88301af8",
   "metadata": {},
   "outputs": [],
   "source": [
    "rf.score(x_test,y_test)"
   ]
  },
  {
   "cell_type": "code",
   "execution_count": 129,
   "id": "103a46ad",
   "metadata": {},
   "outputs": [],
   "source": [
    "yy=rf.predict(X_test)"
   ]
  },
  {
   "cell_type": "code",
   "execution_count": 136,
   "id": "51ed6f57",
   "metadata": {},
   "outputs": [
    {
     "name": "stdout",
     "output_type": "stream",
     "text": [
      "r2_score:  0.7752100708273956\n",
      "MSE :  89313254420.48328\n",
      "MAE :  172817.6786679618\n",
      "RMSE :  298853.23224031436\n"
     ]
    }
   ],
   "source": [
    "print(\"r2_score: \",r2_score(y_test,yy))\n",
    "print(\"MSE : \",mean_squared_error(y_test,yy))\n",
    "print(\"MAE : \",mean_absolute_error(y_test,yy))\n",
    "print(\"RMSE : \",math.sqrt(mean_squared_error(y_test,yy)))"
   ]
  },
  {
   "cell_type": "code",
   "execution_count": 134,
   "id": "d402fe1e",
   "metadata": {},
   "outputs": [
    {
     "name": "stderr",
     "output_type": "stream",
     "text": [
      "C:\\Users\\admin\\anaconda3\\lib\\site-packages\\seaborn\\_decorators.py:36: FutureWarning: Pass the following variables as keyword args: x, y. From version 0.12, the only valid positional argument will be `data`, and passing other arguments without an explicit keyword will result in an error or misinterpretation.\n",
      "  warnings.warn(\n"
     ]
    },
    {
     "data": {
      "text/plain": [
       "<seaborn.axisgrid.FacetGrid at 0x24c8a9db2b0>"
      ]
     },
     "execution_count": 134,
     "metadata": {},
     "output_type": "execute_result"
    },
    {
     "data": {
      "image/png": "[encoded data removed]",
      "text/plain": [
       "<Figure size 360x360 with 1 Axes>"
      ]
     },
     "metadata": {
      "needs_background": "light"
     },
     "output_type": "display_data"
    }
   ],
   "source": [
    "sns.relplot(y_test,yy)"
   ]
  },
  {
   "cell_type": "code",
   "execution_count": 138,
   "id": "737bd84d",
   "metadata": {},
   "outputs": [
    {
     "name": "stdout",
     "output_type": "stream",
     "text": [
      "None\n"
     ]
    }
   ],
   "source": [
    "mylist=[1,4,2,5,10]\n",
    "mysortedlist=mylist.sort()\n",
    "print(mysortedlist)"
   ]
  },
  {
   "cell_type": "code",
   "execution_count": null,
   "id": "2e199d0f",
   "metadata": {},
   "outputs": [],
   "source": []
  }
 ],
 "metadata": {
  "kernelspec": {
   "display_name": "Python 3",
   "language": "python",
   "name": "python3"
  },
  "language_info": {
   "codemirror_mode": {
    "name": "ipython",
    "version": 3
   },
   "file_extension": ".py",
   "mimetype": "text/x-python",
   "name": "python",
   "nbconvert_exporter": "python",
   "pygments_lexer": "ipython3",
   "version": "3.8.8"
  }
 },
 "nbformat": 4,
 "nbformat_minor": 5
}
